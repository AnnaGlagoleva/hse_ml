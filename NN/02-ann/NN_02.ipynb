{
 "cells": [
  {
   "cell_type": "markdown",
   "metadata": {},
   "source": [
    "## NN and deep learning #2\n",
    "### Basic NN implementation"
   ]
  },
  {
   "cell_type": "code",
   "execution_count": 14,
   "metadata": {},
   "outputs": [],
   "source": [
    "import numpy as np"
   ]
  },
  {
   "cell_type": "code",
   "execution_count": 30,
   "metadata": {},
   "outputs": [],
   "source": [
    "def sigmoid(t): return 1 / (1 + np.exp(-t))\n",
    "def sigmoid_derivative(p): return p * (1 - p)"
   ]
  },
  {
   "cell_type": "code",
   "execution_count": 31,
   "metadata": {},
   "outputs": [],
   "source": [
    "def loss(y, y_out):\n",
    "    return np.mean(np.square(y-y_out))"
   ]
  },
  {
   "cell_type": "code",
   "execution_count": 79,
   "metadata": {},
   "outputs": [],
   "source": [
    "class NeuralNetwork:\n",
    "    def __init__(self, x, y, learning_rate=1.):\n",
    "        self.input = x\n",
    "        self.weights1 = np.random.rand(self.input.shape[1], 4)\n",
    "        self.weights2 = np.random.rand(4, 1)\n",
    "        self.y = y\n",
    "        self.output = np.zeros(self.y.shape)\n",
    "        self.learning_rate = learning_rate\n",
    "    \n",
    "    def feedforward(self):\n",
    "        self.layer1 = sigmoid(np.dot(self.input, self.weights1))\n",
    "        self.output = sigmoid(np.dot(self.layer1, self.weights2))\n",
    "        return self.output\n",
    "\n",
    "    def backprop(self):\n",
    "        d_weights2 = np.dot(self.layer1.T, (2*(self.y - self.output) *\n",
    "                                            sigmoid_derivative(self.output)))\n",
    "        d_weights1 = np.dot(self.input.T, (np.dot(2*(self.y - self.output) *\n",
    "                                                  sigmoid_derivative(self.output), self.weights2.T)\n",
    "                                           * sigmoid_derivative(self.layer1)))\n",
    "        \n",
    "        self.weights2 += self.learning_rate * d_weights2\n",
    "        self.weights1 += self.learning_rate * d_weights1\n",
    "    \n",
    "    def train(self):\n",
    "        self.output = self.feedforward()\n",
    "        self.backprop()"
   ]
  },
  {
   "cell_type": "code",
   "execution_count": 80,
   "metadata": {},
   "outputs": [],
   "source": [
    "def print_results(i, X, y, y_out):\n",
    "    print('Epoch #: {}'.format(i))\n",
    "    print('Actual y: {}'.format(y))\n",
    "    print('Predict y: {}'.format(y_out))\n",
    "    print('Loss function: {:.4f}'.format(loss(y, y_out)))\n",
    "    print(\"*\"*40)"
   ]
  },
  {
   "cell_type": "code",
   "execution_count": 81,
   "metadata": {},
   "outputs": [
    {
     "data": {
      "text/plain": [
       "array([[0., 0., 1.],\n",
       "       [0., 1., 1.],\n",
       "       [1., 0., 1.],\n",
       "       [1., 1., 1.]])"
      ]
     },
     "execution_count": 81,
     "metadata": {},
     "output_type": "execute_result"
    }
   ],
   "source": [
    "X = np.array([[0, 0, 1], [0, 1, 1], [1, 0, 1], [1, 1, 1]], dtype=float)\n",
    "\n",
    "X"
   ]
  },
  {
   "cell_type": "code",
   "execution_count": 82,
   "metadata": {},
   "outputs": [
    {
     "data": {
      "text/plain": [
       "array([[0],\n",
       "       [1],\n",
       "       [1],\n",
       "       [0]])"
      ]
     },
     "execution_count": 82,
     "metadata": {},
     "output_type": "execute_result"
    }
   ],
   "source": [
    "y = np.array([0, 1, 1, 0]).reshape(-1, 1)\n",
    "\n",
    "y"
   ]
  },
  {
   "cell_type": "code",
   "execution_count": 88,
   "metadata": {},
   "outputs": [
    {
     "name": "stdout",
     "output_type": "stream",
     "text": [
      "Epoch #: 1000\n",
      "Actual y: [0 1 1 0]\n",
      "Predict y: [0.41644989 0.51591688 0.5535174  0.54781764]\n",
      "Loss function: 0.2268\n",
      "****************************************\n",
      "Epoch #: 2000\n",
      "Actual y: [0 1 1 0]\n",
      "Predict y: [0.11583583 0.75267337 0.76660482 0.30311411]\n",
      "Loss function: 0.0552\n",
      "****************************************\n",
      "Epoch #: 3000\n",
      "Actual y: [0 1 1 0]\n",
      "Predict y: [0.04976894 0.88662009 0.88907167 0.13273499]\n",
      "Loss function: 0.0113\n",
      "****************************************\n",
      "Epoch #: 4000\n",
      "Actual y: [0 1 1 0]\n",
      "Predict y: [0.03300878 0.92289936 0.92441166 0.08886073]\n",
      "Loss function: 0.0052\n",
      "****************************************\n",
      "Epoch #: 5000\n",
      "Actual y: [0 1 1 0]\n",
      "Predict y: [0.02552884 0.93966898 0.94082414 0.06896498]\n",
      "Loss function: 0.0031\n",
      "****************************************\n",
      "Epoch #: 6000\n",
      "Actual y: [0 1 1 0]\n",
      "Predict y: [0.02122641 0.94949102 0.95044881 0.05743398]\n",
      "Loss function: 0.0022\n",
      "****************************************\n",
      "Epoch #: 7000\n",
      "Actual y: [0 1 1 0]\n",
      "Predict y: [0.01839651 0.95602385 0.95685338 0.04981738]\n",
      "Loss function: 0.0017\n",
      "****************************************\n",
      "Epoch #: 8000\n",
      "Actual y: [0 1 1 0]\n",
      "Predict y: [0.01637508 0.96072616 0.96146434 0.04436244]\n",
      "Loss function: 0.0013\n",
      "****************************************\n",
      "Epoch #: 9000\n",
      "Actual y: [0 1 1 0]\n",
      "Predict y: [0.01484836 0.96429771 0.96496688 0.04023527]\n",
      "Loss function: 0.0011\n",
      "****************************************\n",
      "Epoch #: 10000\n",
      "Actual y: [0 1 1 0]\n",
      "Predict y: [0.01364805 0.9671179  0.96773274 0.03698649]\n",
      "Loss function: 0.0009\n",
      "****************************************\n"
     ]
    }
   ],
   "source": [
    "n_epoch = 10000\n",
    "\n",
    "ANN = NeuralNetwork(X, y, learning_rate=0.1)\n",
    "\n",
    "for i in range(0, n_epoch):\n",
    "    ANN.train()\n",
    "    if 0 == (i + 1) % 1000:\n",
    "        y_out = ANN.output\n",
    "        print_results(i + 1, X, y.squeeze(), y_out.squeeze())"
   ]
  },
  {
   "cell_type": "code",
   "execution_count": 85,
   "metadata": {},
   "outputs": [
    {
     "data": {
      "text/plain": [
       "array([[ 4.24976414, -1.11735376,  4.49689319,  6.00484415],\n",
       "       [-1.70296912,  5.43019136, -1.93351641,  5.73833311],\n",
       "       [ 0.09567294, -1.28306374,  0.21458986, -1.61839874]])"
      ]
     },
     "execution_count": 85,
     "metadata": {},
     "output_type": "execute_result"
    }
   ],
   "source": [
    "ANN.weights1"
   ]
  },
  {
   "cell_type": "code",
   "execution_count": 86,
   "metadata": {},
   "outputs": [
    {
     "data": {
      "text/plain": [
       "array([[-3.2286471 ],\n",
       "       [-6.01941195],\n",
       "       [-3.48390307],\n",
       "       [ 9.71290212]])"
      ]
     },
     "execution_count": 86,
     "metadata": {},
     "output_type": "execute_result"
    }
   ],
   "source": [
    "ANN.weights2"
   ]
  }
 ],
 "metadata": {
  "kernelspec": {
   "display_name": "Python 3",
   "language": "python",
   "name": "python3"
  },
  "language_info": {
   "codemirror_mode": {
    "name": "ipython",
    "version": 3
   },
   "file_extension": ".py",
   "mimetype": "text/x-python",
   "name": "python",
   "nbconvert_exporter": "python",
   "pygments_lexer": "ipython3",
   "version": "3.6.8"
  }
 },
 "nbformat": 4,
 "nbformat_minor": 2
}

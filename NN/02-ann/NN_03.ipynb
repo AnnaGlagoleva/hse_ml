{
 "cells": [
  {
   "cell_type": "markdown",
   "metadata": {},
   "source": [
    "https://www.kaggle.com/mlg-ulb/creditcardfraud"
   ]
  },
  {
   "cell_type": "code",
   "execution_count": 8,
   "metadata": {},
   "outputs": [],
   "source": [
    "import matplotlib.pyplot as plt\n",
    "%matplotlib inline  \n",
    "import pandas as pd\n",
    "import numpy as np\n",
    "\n",
    "import warnings\n",
    "warnings.filterwarnings('ignore')"
   ]
  },
  {
   "cell_type": "code",
   "execution_count": 100,
   "metadata": {},
   "outputs": [],
   "source": [
    "from sklearn.model_selection import train_test_split, cross_val_score, StratifiedKFold\n",
    "from sklearn.preprocessing import StandardScaler\n",
    "from sklearn.metrics import confusion_matrix, classification_report\n",
    "from sklearn.metrics import roc_auc_score, precision_score, recall_score, f1_score\n",
    "from sklearn.pipeline import Pipeline"
   ]
  },
  {
   "cell_type": "code",
   "execution_count": 93,
   "metadata": {},
   "outputs": [],
   "source": [
    "from keras.models import Sequential\n",
    "from keras.layers import Dense, Activation, Dropout\n",
    "from keras import regularizers\n",
    "from keras.callbacks import EarlyStopping\n",
    "from keras.wrappers.scikit_learn import KerasClassifier"
   ]
  },
  {
   "cell_type": "code",
   "execution_count": 55,
   "metadata": {},
   "outputs": [
    {
     "name": "stdout",
     "output_type": "stream",
     "text": [
      "['/job:localhost/replica:0/task:0/device:GPU:0']\n",
      "[name: \"/device:CPU:0\"\n",
      "device_type: \"CPU\"\n",
      "memory_limit: 268435456\n",
      "locality {\n",
      "}\n",
      "incarnation: 10707022714148422244\n",
      ", name: \"/device:GPU:0\"\n",
      "device_type: \"GPU\"\n",
      "memory_limit: 1437731635\n",
      "locality {\n",
      "  bus_id: 1\n",
      "  links {\n",
      "  }\n",
      "}\n",
      "incarnation: 2526646508532419178\n",
      "physical_device_desc: \"device: 0, name: GeForce MX150, pci bus id: 0000:01:00.0, compute capability: 6.1\"\n",
      "]\n"
     ]
    }
   ],
   "source": [
    "from keras import backend\n",
    "print(backend.tensorflow_backend._get_available_gpus())\n",
    "\n",
    "from tensorflow.python.client import device_lib\n",
    "print(device_lib.list_local_devices())"
   ]
  },
  {
   "cell_type": "code",
   "execution_count": 2,
   "metadata": {},
   "outputs": [],
   "source": [
    "df = pd.read_csv('creditcard.csv')"
   ]
  },
  {
   "cell_type": "code",
   "execution_count": 7,
   "metadata": {},
   "outputs": [
    {
     "name": "stdout",
     "output_type": "stream",
     "text": [
      "<class 'pandas.core.frame.DataFrame'>\n",
      "RangeIndex: 284807 entries, 0 to 284806\n",
      "Data columns (total 31 columns):\n",
      "Time      284807 non-null float64\n",
      "V1        284807 non-null float64\n",
      "V2        284807 non-null float64\n",
      "V3        284807 non-null float64\n",
      "V4        284807 non-null float64\n",
      "V5        284807 non-null float64\n",
      "V6        284807 non-null float64\n",
      "V7        284807 non-null float64\n",
      "V8        284807 non-null float64\n",
      "V9        284807 non-null float64\n",
      "V10       284807 non-null float64\n",
      "V11       284807 non-null float64\n",
      "V12       284807 non-null float64\n",
      "V13       284807 non-null float64\n",
      "V14       284807 non-null float64\n",
      "V15       284807 non-null float64\n",
      "V16       284807 non-null float64\n",
      "V17       284807 non-null float64\n",
      "V18       284807 non-null float64\n",
      "V19       284807 non-null float64\n",
      "V20       284807 non-null float64\n",
      "V21       284807 non-null float64\n",
      "V22       284807 non-null float64\n",
      "V23       284807 non-null float64\n",
      "V24       284807 non-null float64\n",
      "V25       284807 non-null float64\n",
      "V26       284807 non-null float64\n",
      "V27       284807 non-null float64\n",
      "V28       284807 non-null float64\n",
      "Amount    284807 non-null float64\n",
      "Class     284807 non-null int64\n",
      "dtypes: float64(30), int64(1)\n",
      "memory usage: 67.4 MB\n"
     ]
    }
   ],
   "source": [
    "df.info()"
   ]
  },
  {
   "cell_type": "code",
   "execution_count": 3,
   "metadata": {},
   "outputs": [
    {
     "data": {
      "text/html": [
       "<div>\n",
       "<style scoped>\n",
       "    .dataframe tbody tr th:only-of-type {\n",
       "        vertical-align: middle;\n",
       "    }\n",
       "\n",
       "    .dataframe tbody tr th {\n",
       "        vertical-align: top;\n",
       "    }\n",
       "\n",
       "    .dataframe thead th {\n",
       "        text-align: right;\n",
       "    }\n",
       "</style>\n",
       "<table border=\"1\" class=\"dataframe\">\n",
       "  <thead>\n",
       "    <tr style=\"text-align: right;\">\n",
       "      <th></th>\n",
       "      <th>Time</th>\n",
       "      <th>V1</th>\n",
       "      <th>V2</th>\n",
       "      <th>V3</th>\n",
       "      <th>V4</th>\n",
       "      <th>V5</th>\n",
       "      <th>V6</th>\n",
       "      <th>V7</th>\n",
       "      <th>V8</th>\n",
       "      <th>V9</th>\n",
       "      <th>...</th>\n",
       "      <th>V21</th>\n",
       "      <th>V22</th>\n",
       "      <th>V23</th>\n",
       "      <th>V24</th>\n",
       "      <th>V25</th>\n",
       "      <th>V26</th>\n",
       "      <th>V27</th>\n",
       "      <th>V28</th>\n",
       "      <th>Amount</th>\n",
       "      <th>Class</th>\n",
       "    </tr>\n",
       "  </thead>\n",
       "  <tbody>\n",
       "    <tr>\n",
       "      <th>0</th>\n",
       "      <td>0.0</td>\n",
       "      <td>-1.359807</td>\n",
       "      <td>-0.072781</td>\n",
       "      <td>2.536347</td>\n",
       "      <td>1.378155</td>\n",
       "      <td>-0.338321</td>\n",
       "      <td>0.462388</td>\n",
       "      <td>0.239599</td>\n",
       "      <td>0.098698</td>\n",
       "      <td>0.363787</td>\n",
       "      <td>...</td>\n",
       "      <td>-0.018307</td>\n",
       "      <td>0.277838</td>\n",
       "      <td>-0.110474</td>\n",
       "      <td>0.066928</td>\n",
       "      <td>0.128539</td>\n",
       "      <td>-0.189115</td>\n",
       "      <td>0.133558</td>\n",
       "      <td>-0.021053</td>\n",
       "      <td>149.62</td>\n",
       "      <td>0</td>\n",
       "    </tr>\n",
       "    <tr>\n",
       "      <th>1</th>\n",
       "      <td>0.0</td>\n",
       "      <td>1.191857</td>\n",
       "      <td>0.266151</td>\n",
       "      <td>0.166480</td>\n",
       "      <td>0.448154</td>\n",
       "      <td>0.060018</td>\n",
       "      <td>-0.082361</td>\n",
       "      <td>-0.078803</td>\n",
       "      <td>0.085102</td>\n",
       "      <td>-0.255425</td>\n",
       "      <td>...</td>\n",
       "      <td>-0.225775</td>\n",
       "      <td>-0.638672</td>\n",
       "      <td>0.101288</td>\n",
       "      <td>-0.339846</td>\n",
       "      <td>0.167170</td>\n",
       "      <td>0.125895</td>\n",
       "      <td>-0.008983</td>\n",
       "      <td>0.014724</td>\n",
       "      <td>2.69</td>\n",
       "      <td>0</td>\n",
       "    </tr>\n",
       "    <tr>\n",
       "      <th>2</th>\n",
       "      <td>1.0</td>\n",
       "      <td>-1.358354</td>\n",
       "      <td>-1.340163</td>\n",
       "      <td>1.773209</td>\n",
       "      <td>0.379780</td>\n",
       "      <td>-0.503198</td>\n",
       "      <td>1.800499</td>\n",
       "      <td>0.791461</td>\n",
       "      <td>0.247676</td>\n",
       "      <td>-1.514654</td>\n",
       "      <td>...</td>\n",
       "      <td>0.247998</td>\n",
       "      <td>0.771679</td>\n",
       "      <td>0.909412</td>\n",
       "      <td>-0.689281</td>\n",
       "      <td>-0.327642</td>\n",
       "      <td>-0.139097</td>\n",
       "      <td>-0.055353</td>\n",
       "      <td>-0.059752</td>\n",
       "      <td>378.66</td>\n",
       "      <td>0</td>\n",
       "    </tr>\n",
       "    <tr>\n",
       "      <th>3</th>\n",
       "      <td>1.0</td>\n",
       "      <td>-0.966272</td>\n",
       "      <td>-0.185226</td>\n",
       "      <td>1.792993</td>\n",
       "      <td>-0.863291</td>\n",
       "      <td>-0.010309</td>\n",
       "      <td>1.247203</td>\n",
       "      <td>0.237609</td>\n",
       "      <td>0.377436</td>\n",
       "      <td>-1.387024</td>\n",
       "      <td>...</td>\n",
       "      <td>-0.108300</td>\n",
       "      <td>0.005274</td>\n",
       "      <td>-0.190321</td>\n",
       "      <td>-1.175575</td>\n",
       "      <td>0.647376</td>\n",
       "      <td>-0.221929</td>\n",
       "      <td>0.062723</td>\n",
       "      <td>0.061458</td>\n",
       "      <td>123.50</td>\n",
       "      <td>0</td>\n",
       "    </tr>\n",
       "    <tr>\n",
       "      <th>4</th>\n",
       "      <td>2.0</td>\n",
       "      <td>-1.158233</td>\n",
       "      <td>0.877737</td>\n",
       "      <td>1.548718</td>\n",
       "      <td>0.403034</td>\n",
       "      <td>-0.407193</td>\n",
       "      <td>0.095921</td>\n",
       "      <td>0.592941</td>\n",
       "      <td>-0.270533</td>\n",
       "      <td>0.817739</td>\n",
       "      <td>...</td>\n",
       "      <td>-0.009431</td>\n",
       "      <td>0.798278</td>\n",
       "      <td>-0.137458</td>\n",
       "      <td>0.141267</td>\n",
       "      <td>-0.206010</td>\n",
       "      <td>0.502292</td>\n",
       "      <td>0.219422</td>\n",
       "      <td>0.215153</td>\n",
       "      <td>69.99</td>\n",
       "      <td>0</td>\n",
       "    </tr>\n",
       "  </tbody>\n",
       "</table>\n",
       "<p>5 rows × 31 columns</p>\n",
       "</div>"
      ],
      "text/plain": [
       "   Time        V1        V2        V3        V4        V5        V6        V7  \\\n",
       "0   0.0 -1.359807 -0.072781  2.536347  1.378155 -0.338321  0.462388  0.239599   \n",
       "1   0.0  1.191857  0.266151  0.166480  0.448154  0.060018 -0.082361 -0.078803   \n",
       "2   1.0 -1.358354 -1.340163  1.773209  0.379780 -0.503198  1.800499  0.791461   \n",
       "3   1.0 -0.966272 -0.185226  1.792993 -0.863291 -0.010309  1.247203  0.237609   \n",
       "4   2.0 -1.158233  0.877737  1.548718  0.403034 -0.407193  0.095921  0.592941   \n",
       "\n",
       "         V8        V9  ...       V21       V22       V23       V24       V25  \\\n",
       "0  0.098698  0.363787  ... -0.018307  0.277838 -0.110474  0.066928  0.128539   \n",
       "1  0.085102 -0.255425  ... -0.225775 -0.638672  0.101288 -0.339846  0.167170   \n",
       "2  0.247676 -1.514654  ...  0.247998  0.771679  0.909412 -0.689281 -0.327642   \n",
       "3  0.377436 -1.387024  ... -0.108300  0.005274 -0.190321 -1.175575  0.647376   \n",
       "4 -0.270533  0.817739  ... -0.009431  0.798278 -0.137458  0.141267 -0.206010   \n",
       "\n",
       "        V26       V27       V28  Amount  Class  \n",
       "0 -0.189115  0.133558 -0.021053  149.62      0  \n",
       "1  0.125895 -0.008983  0.014724    2.69      0  \n",
       "2 -0.139097 -0.055353 -0.059752  378.66      0  \n",
       "3 -0.221929  0.062723  0.061458  123.50      0  \n",
       "4  0.502292  0.219422  0.215153   69.99      0  \n",
       "\n",
       "[5 rows x 31 columns]"
      ]
     },
     "execution_count": 3,
     "metadata": {},
     "output_type": "execute_result"
    }
   ],
   "source": [
    "df.head()"
   ]
  },
  {
   "cell_type": "code",
   "execution_count": 4,
   "metadata": {},
   "outputs": [
    {
     "data": {
      "text/plain": [
       "(284807, 31)"
      ]
     },
     "execution_count": 4,
     "metadata": {},
     "output_type": "execute_result"
    }
   ],
   "source": [
    "df.shape"
   ]
  },
  {
   "cell_type": "code",
   "execution_count": 5,
   "metadata": {},
   "outputs": [
    {
     "data": {
      "text/plain": [
       "0    284315\n",
       "1       492\n",
       "Name: Class, dtype: int64"
      ]
     },
     "execution_count": 5,
     "metadata": {},
     "output_type": "execute_result"
    }
   ],
   "source": [
    "df['Class'].value_counts()"
   ]
  },
  {
   "cell_type": "code",
   "execution_count": 9,
   "metadata": {},
   "outputs": [],
   "source": [
    "fraud = df[df['Class']==1]\n",
    "normal = df[df['Class']==0]"
   ]
  },
  {
   "cell_type": "code",
   "execution_count": 89,
   "metadata": {},
   "outputs": [
    {
     "data": {
      "text/plain": [
       "<Figure size 1440x720 with 0 Axes>"
      ]
     },
     "metadata": {},
     "output_type": "display_data"
    },
    {
     "data": {
      "image/png": "[encoded data removed]",
      "text/plain": [
       "<Figure size 432x288 with 2 Axes>"
      ]
     },
     "metadata": {
      "needs_background": "light"
     },
     "output_type": "display_data"
    }
   ],
   "source": [
    "f = plt.figure(figsize=(20, 10))\n",
    "f, (ax1, ax2) = plt.subplots(2, 1, sharex=True)\n",
    "\n",
    "ax1.hist(fraud['Amount'], bins=30)\n",
    "ax2.hist(normal['Amount'], bins=30)\n",
    "plt.xlim([0, 20000])\n",
    "plt.yscale('log')\n",
    "plt.xlabel('Transaction amount $');"
   ]
  },
  {
   "cell_type": "code",
   "execution_count": 28,
   "metadata": {},
   "outputs": [
    {
     "data": {
      "text/plain": [
       "((227845, 31), (56962, 31))"
      ]
     },
     "execution_count": 28,
     "metadata": {},
     "output_type": "execute_result"
    }
   ],
   "source": [
    "train, test = train_test_split(df, test_size=0.2, stratify=df.Class, random_state=2019)\n",
    "\n",
    "train.shape, test.shape"
   ]
  },
  {
   "cell_type": "code",
   "execution_count": 29,
   "metadata": {},
   "outputs": [
    {
     "data": {
      "text/plain": [
       "((227845, 30), (227845,))"
      ]
     },
     "execution_count": 29,
     "metadata": {},
     "output_type": "execute_result"
    }
   ],
   "source": [
    "X_train = train.drop('Class', 1)\n",
    "y_train = train['Class']\n",
    "\n",
    "X_train.shape, y_train.shape"
   ]
  },
  {
   "cell_type": "code",
   "execution_count": 30,
   "metadata": {},
   "outputs": [
    {
     "data": {
      "text/plain": [
       "((56962, 30), (56962,))"
      ]
     },
     "execution_count": 30,
     "metadata": {},
     "output_type": "execute_result"
    }
   ],
   "source": [
    "X_test = test.drop('Class', 1)\n",
    "y_test = test['Class']\n",
    "\n",
    "X_test.shape, y_test.shape"
   ]
  },
  {
   "cell_type": "code",
   "execution_count": 31,
   "metadata": {},
   "outputs": [],
   "source": [
    "sc = StandardScaler()\n",
    "\n",
    "X_train = sc.fit_transform(X_train)\n",
    "X_test = sc.transform(X_test)"
   ]
  },
  {
   "cell_type": "markdown",
   "metadata": {},
   "source": [
    "### Полносвязная нейронная сеть"
   ]
  },
  {
   "cell_type": "code",
   "execution_count": 47,
   "metadata": {},
   "outputs": [
    {
     "name": "stdout",
     "output_type": "stream",
     "text": [
      "_________________________________________________________________\n",
      "Layer (type)                 Output Shape              Param #   \n",
      "=================================================================\n",
      "dense_14 (Dense)             (None, 128)               3968      \n",
      "_________________________________________________________________\n",
      "dense_15 (Dense)             (None, 64)                8256      \n",
      "_________________________________________________________________\n",
      "dense_16 (Dense)             (None, 8)                 520       \n",
      "_________________________________________________________________\n",
      "dense_17 (Dense)             (None, 1)                 9         \n",
      "=================================================================\n",
      "Total params: 12,753\n",
      "Trainable params: 12,753\n",
      "Non-trainable params: 0\n",
      "_________________________________________________________________\n"
     ]
    }
   ],
   "source": [
    "model = Sequential()\n",
    "model.add(Dense(128, activation='relu', input_dim=30))\n",
    "model.add(Dense(64, activation='relu'))\n",
    "model.add(Dense(8, activation='relu'))\n",
    "model.add(Dense(1, activation='sigmoid'))\n",
    "\n",
    "model.summary()"
   ]
  },
  {
   "cell_type": "code",
   "execution_count": 48,
   "metadata": {},
   "outputs": [],
   "source": [
    "model.compile(optimizer='SGD', loss='binary_crossentropy', metrics=['accuracy'])"
   ]
  },
  {
   "cell_type": "code",
   "execution_count": 49,
   "metadata": {},
   "outputs": [
    {
     "name": "stdout",
     "output_type": "stream",
     "text": [
      "Train on 227845 samples, validate on 56962 samples\n",
      "Epoch 1/50\n",
      "227845/227845 [==============================] - 16s 70us/step - loss: 0.0801 - acc: 0.9968 - val_loss: 0.0261 - val_acc: 0.9983\n",
      "Epoch 2/50\n",
      "227845/227845 [==============================] - 6s 28us/step - loss: 0.0197 - acc: 0.9983 - val_loss: 0.0124 - val_acc: 0.9983\n",
      "Epoch 3/50\n",
      "227845/227845 [==============================] - 6s 28us/step - loss: 0.0093 - acc: 0.9984 - val_loss: 0.0079 - val_acc: 0.9986\n",
      "Epoch 4/50\n",
      "227845/227845 [==============================] - 6s 28us/step - loss: 0.0069 - acc: 0.9988 - val_loss: 0.0065 - val_acc: 0.9989\n",
      "Epoch 5/50\n",
      "227845/227845 [==============================] - 6s 27us/step - loss: 0.0060 - acc: 0.9990 - val_loss: 0.0059 - val_acc: 0.9991\n",
      "Epoch 6/50\n",
      "227845/227845 [==============================] - 6s 27us/step - loss: 0.0055 - acc: 0.9991 - val_loss: 0.0055 - val_acc: 0.9993\n",
      "Epoch 7/50\n",
      "227845/227845 [==============================] - 6s 28us/step - loss: 0.0051 - acc: 0.9992 - val_loss: 0.0053 - val_acc: 0.9993\n",
      "Epoch 8/50\n",
      "227845/227845 [==============================] - 6s 28us/step - loss: 0.0049 - acc: 0.9992 - val_loss: 0.0051 - val_acc: 0.9994\n",
      "Epoch 9/50\n",
      "227845/227845 [==============================] - 7s 29us/step - loss: 0.0047 - acc: 0.9992 - val_loss: 0.0050 - val_acc: 0.9994\n",
      "Epoch 10/50\n",
      "227845/227845 [==============================] - 7s 31us/step - loss: 0.0046 - acc: 0.9993 - val_loss: 0.0049 - val_acc: 0.9994\n",
      "Epoch 11/50\n",
      "227845/227845 [==============================] - 8s 34us/step - loss: 0.0045 - acc: 0.9993 - val_loss: 0.0048 - val_acc: 0.9994\n",
      "Epoch 12/50\n",
      "227845/227845 [==============================] - 8s 36us/step - loss: 0.0044 - acc: 0.9993 - val_loss: 0.0048 - val_acc: 0.9994\n",
      "Epoch 13/50\n",
      "227845/227845 [==============================] - 6s 26us/step - loss: 0.0043 - acc: 0.9993 - val_loss: 0.0047 - val_acc: 0.9994\n",
      "Epoch 14/50\n",
      "227845/227845 [==============================] - 6s 26us/step - loss: 0.0043 - acc: 0.9993 - val_loss: 0.0047 - val_acc: 0.9994\n",
      "Epoch 15/50\n",
      "227845/227845 [==============================] - 6s 27us/step - loss: 0.0042 - acc: 0.9993 - val_loss: 0.0046 - val_acc: 0.9994\n",
      "Epoch 16/50\n",
      "227845/227845 [==============================] - 9s 40us/step - loss: 0.0041 - acc: 0.9993 - val_loss: 0.0046 - val_acc: 0.9994 - loss: 0.0041 - acc: 0\n",
      "Epoch 17/50\n",
      "227845/227845 [==============================] - 10s 42us/step - loss: 0.0041 - acc: 0.9993 - val_loss: 0.0045 - val_acc: 0.9994\n",
      "Epoch 18/50\n",
      "227845/227845 [==============================] - 9s 37us/step - loss: 0.0040 - acc: 0.9994 - val_loss: 0.0044 - val_acc: 0.9994cc: 0.9 - ETA: 4s - los - ETA: 0s - loss: 0.0040 - ac\n",
      "Epoch 19/50\n",
      "227845/227845 [==============================] - 6s 28us/step - loss: 0.0039 - acc: 0.9994 - val_loss: 0.0042 - val_acc: 0.9994\n",
      "Epoch 20/50\n",
      "227845/227845 [==============================] - 6s 26us/step - loss: 0.0038 - acc: 0.9994 - val_loss: 0.0040 - val_acc: 0.9994\n",
      "Epoch 21/50\n",
      "227845/227845 [==============================] - 6s 28us/step - loss: 0.0037 - acc: 0.9994 - val_loss: 0.0039 - val_acc: 0.9994\n",
      "Epoch 22/50\n",
      "227845/227845 [==============================] - 6s 27us/step - loss: 0.0036 - acc: 0.9994 - val_loss: 0.0038 - val_acc: 0.9994\n",
      "Epoch 23/50\n",
      "227845/227845 [==============================] - 6s 27us/step - loss: 0.0036 - acc: 0.9994 - val_loss: 0.0037 - val_acc: 0.9994\n",
      "Epoch 24/50\n",
      "227845/227845 [==============================] - 7s 31us/step - loss: 0.0035 - acc: 0.9994 - val_loss: 0.0036 - val_acc: 0.9995\n",
      "Epoch 25/50\n",
      "227845/227845 [==============================] - 7s 30us/step - loss: 0.0035 - acc: 0.9994 - val_loss: 0.0036 - val_acc: 0.9995\n",
      "Epoch 26/50\n",
      "227845/227845 [==============================] - 7s 29us/step - loss: 0.0035 - acc: 0.9994 - val_loss: 0.0036 - val_acc: 0.9995\n",
      "Epoch 27/50\n",
      "227845/227845 [==============================] - 7s 30us/step - loss: 0.0034 - acc: 0.9994 - val_loss: 0.0036 - val_acc: 0.9995\n",
      "Epoch 28/50\n",
      "227845/227845 [==============================] - 7s 32us/step - loss: 0.0034 - acc: 0.9994 - val_loss: 0.0036 - val_acc: 0.9995\n",
      "Epoch 29/50\n",
      "227845/227845 [==============================] - 6s 27us/step - loss: 0.0034 - acc: 0.9994 - val_loss: 0.0035 - val_acc: 0.9995\n",
      "Epoch 30/50\n",
      "227845/227845 [==============================] - 6s 27us/step - loss: 0.0034 - acc: 0.9994 - val_loss: 0.0035 - val_acc: 0.9995\n",
      "Epoch 31/50\n",
      "227845/227845 [==============================] - 7s 30us/step - loss: 0.0034 - acc: 0.9994 - val_loss: 0.0035 - val_acc: 0.9995\n",
      "Epoch 32/50\n",
      "227845/227845 [==============================] - 8s 35us/step - loss: 0.0033 - acc: 0.9994 - val_loss: 0.0035 - val_acc: 0.9995\n",
      "Epoch 33/50\n",
      "227845/227845 [==============================] - 7s 31us/step - loss: 0.0033 - acc: 0.9994 - val_loss: 0.0035 - val_acc: 0.9995\n",
      "Epoch 34/50\n",
      "227845/227845 [==============================] - 6s 25us/step - loss: 0.0033 - acc: 0.9994 - val_loss: 0.0035 - val_acc: 0.9995\n",
      "Epoch 35/50\n",
      "227845/227845 [==============================] - 7s 32us/step - loss: 0.0033 - acc: 0.9994 - val_loss: 0.0035 - val_acc: 0.9994\n",
      "Epoch 36/50\n",
      "227845/227845 [==============================] - 6s 27us/step - loss: 0.0033 - acc: 0.9994 - val_loss: 0.0035 - val_acc: 0.9994\n",
      "Epoch 37/50\n",
      "227845/227845 [==============================] - 6s 28us/step - loss: 0.0032 - acc: 0.9994 - val_loss: 0.0035 - val_acc: 0.9994\n",
      "Epoch 38/50\n",
      "227845/227845 [==============================] - 6s 27us/step - loss: 0.0032 - acc: 0.9994 - val_loss: 0.0034 - val_acc: 0.9994\n",
      "Epoch 39/50\n",
      "227845/227845 [==============================] - 6s 27us/step - loss: 0.0032 - acc: 0.9994 - val_loss: 0.0034 - val_acc: 0.9994\n",
      "Epoch 40/50\n",
      "227845/227845 [==============================] - 8s 34us/step - loss: 0.0032 - acc: 0.9994 - val_loss: 0.0034 - val_acc: 0.9994\n",
      "Epoch 41/50\n",
      "227845/227845 [==============================] - 6s 26us/step - loss: 0.0032 - acc: 0.9994 - val_loss: 0.0034 - val_acc: 0.9994\n",
      "Epoch 42/50\n",
      "227845/227845 [==============================] - 6s 26us/step - loss: 0.0032 - acc: 0.9994 - val_loss: 0.0034 - val_acc: 0.9995\n",
      "Epoch 43/50\n",
      "227845/227845 [==============================] - 6s 26us/step - loss: 0.0032 - acc: 0.9994 - val_loss: 0.0034 - val_acc: 0.9995\n",
      "Epoch 44/50\n",
      "227845/227845 [==============================] - 6s 25us/step - loss: 0.0032 - acc: 0.9994 - val_loss: 0.0034 - val_acc: 0.9995\n",
      "Epoch 45/50\n",
      "227845/227845 [==============================] - 6s 26us/step - loss: 0.0031 - acc: 0.9994 - val_loss: 0.0034 - val_acc: 0.9995\n",
      "Epoch 46/50\n",
      "227845/227845 [==============================] - 6s 25us/step - loss: 0.0031 - acc: 0.9994 - val_loss: 0.0034 - val_acc: 0.9995\n",
      "Epoch 47/50\n",
      "227845/227845 [==============================] - 6s 25us/step - loss: 0.0031 - acc: 0.9994 - val_loss: 0.0034 - val_acc: 0.9995\n",
      "Epoch 48/50\n",
      "227845/227845 [==============================] - 6s 25us/step - loss: 0.0031 - acc: 0.9994 - val_loss: 0.0034 - val_acc: 0.9995\n",
      "Epoch 49/50\n",
      "227845/227845 [==============================] - 6s 25us/step - loss: 0.0031 - acc: 0.9994 - val_loss: 0.0033 - val_acc: 0.9995A: 0s - loss: 0.0031\n",
      "Epoch 50/50\n",
      "227845/227845 [==============================] - 6s 25us/step - loss: 0.0031 - acc: 0.9994 - val_loss: 0.0033 - val_acc: 0.9995\n"
     ]
    }
   ],
   "source": [
    "history = model.fit(X_train, y_train, batch_size=500, epochs=50, verbose=1, validation_data=(X_test, y_test))"
   ]
  },
  {
   "cell_type": "code",
   "execution_count": 56,
   "metadata": {},
   "outputs": [
    {
     "data": {
      "text/plain": [
       "[0.0033418126358112313, 0.9994733330992591]"
      ]
     },
     "execution_count": 56,
     "metadata": {},
     "output_type": "execute_result"
    }
   ],
   "source": [
    "score = model.evaluate(X_test, y_test, verbose=0)\n",
    "\n",
    "score"
   ]
  },
  {
   "cell_type": "code",
   "execution_count": 59,
   "metadata": {},
   "outputs": [
    {
     "data": {
      "text/plain": [
       "dict_keys(['val_loss', 'val_acc', 'loss', 'acc'])"
      ]
     },
     "execution_count": 59,
     "metadata": {},
     "output_type": "execute_result"
    }
   ],
   "source": [
    "history.history.keys()"
   ]
  },
  {
   "cell_type": "code",
   "execution_count": 61,
   "metadata": {},
   "outputs": [
    {
     "data": {
      "image/png": "[encoded data removed]",
      "text/plain": [
       "<Figure size 432x288 with 1 Axes>"
      ]
     },
     "metadata": {
      "needs_background": "light"
     },
     "output_type": "display_data"
    }
   ],
   "source": [
    "plt.plot(history.history['loss'])\n",
    "plt.plot(history.history['val_loss'])\n",
    "plt.legend(['train', 'test']);"
   ]
  },
  {
   "cell_type": "code",
   "execution_count": 65,
   "metadata": {},
   "outputs": [],
   "source": [
    "prediction = model.predict_proba(X_test)\n",
    "y_pred = (prediction > 0.5)*1"
   ]
  },
  {
   "cell_type": "code",
   "execution_count": 70,
   "metadata": {},
   "outputs": [],
   "source": [
    "result_df = pd.DataFrame({'proba' : prediction.flatten(), \n",
    "                          'predicted_class' : y_pred.flatten(), \n",
    "                          'true_class' : y_test})"
   ]
  },
  {
   "cell_type": "code",
   "execution_count": 74,
   "metadata": {},
   "outputs": [
    {
     "data": {
      "text/html": [
       "<div>\n",
       "<style scoped>\n",
       "    .dataframe tbody tr th:only-of-type {\n",
       "        vertical-align: middle;\n",
       "    }\n",
       "\n",
       "    .dataframe tbody tr th {\n",
       "        vertical-align: top;\n",
       "    }\n",
       "\n",
       "    .dataframe thead th {\n",
       "        text-align: right;\n",
       "    }\n",
       "</style>\n",
       "<table border=\"1\" class=\"dataframe\">\n",
       "  <thead>\n",
       "    <tr style=\"text-align: right;\">\n",
       "      <th></th>\n",
       "      <th>proba</th>\n",
       "      <th>predicted_class</th>\n",
       "      <th>true_class</th>\n",
       "    </tr>\n",
       "  </thead>\n",
       "  <tbody>\n",
       "    <tr>\n",
       "      <th>150662</th>\n",
       "      <td>0.969042</td>\n",
       "      <td>1</td>\n",
       "      <td>1</td>\n",
       "    </tr>\n",
       "    <tr>\n",
       "      <th>68067</th>\n",
       "      <td>0.003095</td>\n",
       "      <td>0</td>\n",
       "      <td>1</td>\n",
       "    </tr>\n",
       "    <tr>\n",
       "      <th>15566</th>\n",
       "      <td>0.905924</td>\n",
       "      <td>1</td>\n",
       "      <td>1</td>\n",
       "    </tr>\n",
       "    <tr>\n",
       "      <th>244333</th>\n",
       "      <td>0.831540</td>\n",
       "      <td>1</td>\n",
       "      <td>1</td>\n",
       "    </tr>\n",
       "    <tr>\n",
       "      <th>102444</th>\n",
       "      <td>0.996037</td>\n",
       "      <td>1</td>\n",
       "      <td>1</td>\n",
       "    </tr>\n",
       "  </tbody>\n",
       "</table>\n",
       "</div>"
      ],
      "text/plain": [
       "           proba  predicted_class  true_class\n",
       "150662  0.969042                1           1\n",
       "68067   0.003095                0           1\n",
       "15566   0.905924                1           1\n",
       "244333  0.831540                1           1\n",
       "102444  0.996037                1           1"
      ]
     },
     "execution_count": 74,
     "metadata": {},
     "output_type": "execute_result"
    }
   ],
   "source": [
    "result_df[result_df['true_class']==1].head()"
   ]
  },
  {
   "cell_type": "code",
   "execution_count": 79,
   "metadata": {},
   "outputs": [
    {
     "name": "stdout",
     "output_type": "stream",
     "text": [
      "              precision    recall  f1-score   support\n",
      "\n",
      "           0       1.00      1.00      1.00     56864\n",
      "           1       0.90      0.78      0.84        98\n",
      "\n",
      "   micro avg       1.00      1.00      1.00     56962\n",
      "   macro avg       0.95      0.89      0.92     56962\n",
      "weighted avg       1.00      1.00      1.00     56962\n",
      "\n"
     ]
    }
   ],
   "source": [
    "print(classification_report(y_test, y_pred))"
   ]
  },
  {
   "cell_type": "markdown",
   "metadata": {},
   "source": [
    "### Регуляризация\n",
    "\n",
    "- L1\n",
    "- L2\n",
    "- Dropout ==> _по сути, ансамбль большого количества нейронных сетей_\n",
    "\n",
    "https://keras.io/regularizers/"
   ]
  },
  {
   "cell_type": "code",
   "execution_count": 107,
   "metadata": {},
   "outputs": [
    {
     "name": "stdout",
     "output_type": "stream",
     "text": [
      "_________________________________________________________________\n",
      "Layer (type)                 Output Shape              Param #   \n",
      "=================================================================\n",
      "dense_38 (Dense)             (None, 128)               3968      \n",
      "_________________________________________________________________\n",
      "dropout_11 (Dropout)         (None, 128)               0         \n",
      "_________________________________________________________________\n",
      "dense_39 (Dense)             (None, 64)                8256      \n",
      "_________________________________________________________________\n",
      "dropout_12 (Dropout)         (None, 64)                0         \n",
      "_________________________________________________________________\n",
      "dense_40 (Dense)             (None, 8)                 520       \n",
      "_________________________________________________________________\n",
      "dense_41 (Dense)             (None, 1)                 9         \n",
      "=================================================================\n",
      "Total params: 12,753\n",
      "Trainable params: 12,753\n",
      "Non-trainable params: 0\n",
      "_________________________________________________________________\n"
     ]
    }
   ],
   "source": [
    "def baseline_model():\n",
    "    model = Sequential()\n",
    "    # model.add(Dense(128, activation='relu', input_shape=(30, ), kernel_regularizer=regularizers.l2(1e-5)))\n",
    "    model.add(Dense(128, activation='relu', input_shape=(30, )))\n",
    "    model.add(Dropout(0.2))\n",
    "    model.add(Dense(64, activation='relu'))\n",
    "    model.add(Dropout(0.2))\n",
    "    model.add(Dense(8, activation='relu'))\n",
    "    model.add(Dense(1, activation='sigmoid'))\n",
    "    model.compile(optimizer='SGD', loss='binary_crossentropy', metrics=['accuracy'])\n",
    "    return model\n",
    "\n",
    "model = baseline_model()\n",
    "model.summary()"
   ]
  },
  {
   "cell_type": "code",
   "execution_count": 83,
   "metadata": {},
   "outputs": [
    {
     "name": "stdout",
     "output_type": "stream",
     "text": [
      "Train on 227845 samples, validate on 56962 samples\n",
      "Epoch 1/50\n",
      "227845/227845 [==============================] - 7s 32us/step - loss: 0.0972 - acc: 0.9964 - val_loss: 0.0308 - val_acc: 0.9983\n",
      "Epoch 2/50\n",
      "227845/227845 [==============================] - 6s 26us/step - loss: 0.0291 - acc: 0.9983 - val_loss: 0.0248 - val_acc: 0.9983\n",
      "Epoch 3/50\n",
      "227845/227845 [==============================] - 6s 25us/step - loss: 0.0246 - acc: 0.9983 - val_loss: 0.0211 - val_acc: 0.9983\n",
      "Epoch 4/50\n",
      "227845/227845 [==============================] - 5s 22us/step - loss: 0.0208 - acc: 0.9983 - val_loss: 0.0155 - val_acc: 0.9983\n",
      "Epoch 5/50\n",
      "227845/227845 [==============================] - 5s 23us/step - loss: 0.0153 - acc: 0.9983 - val_loss: 0.0107 - val_acc: 0.9983\n",
      "Epoch 6/50\n",
      "227845/227845 [==============================] - 5s 22us/step - loss: 0.0118 - acc: 0.9983 - val_loss: 0.0081 - val_acc: 0.9983\n",
      "Epoch 7/50\n",
      "227845/227845 [==============================] - 5s 23us/step - loss: 0.0094 - acc: 0.9984 - val_loss: 0.0070 - val_acc: 0.9985\n",
      "Epoch 8/50\n",
      "227845/227845 [==============================] - 6s 25us/step - loss: 0.0081 - acc: 0.9985 - val_loss: 0.0064 - val_acc: 0.9988\n",
      "Epoch 9/50\n",
      "227845/227845 [==============================] - 5s 21us/step - loss: 0.0073 - acc: 0.9986 - val_loss: 0.0060 - val_acc: 0.9989\n",
      "Epoch 10/50\n",
      "227845/227845 [==============================] - 5s 24us/step - loss: 0.0071 - acc: 0.9987 - val_loss: 0.0057 - val_acc: 0.9989\n",
      "Epoch 11/50\n",
      "227845/227845 [==============================] - 6s 26us/step - loss: 0.0067 - acc: 0.9987 - val_loss: 0.0055 - val_acc: 0.9990\n",
      "Epoch 12/50\n",
      "227845/227845 [==============================] - 6s 25us/step - loss: 0.0063 - acc: 0.9988 - val_loss: 0.0053 - val_acc: 0.9991\n",
      "Epoch 13/50\n",
      "227845/227845 [==============================] - 6s 24us/step - loss: 0.0061 - acc: 0.9989 - val_loss: 0.0052 - val_acc: 0.9992\n",
      "Epoch 14/50\n",
      "227845/227845 [==============================] - 6s 25us/step - loss: 0.0060 - acc: 0.9989 - val_loss: 0.0050 - val_acc: 0.9992\n",
      "Epoch 15/50\n",
      "227845/227845 [==============================] - 5s 24us/step - loss: 0.0056 - acc: 0.9989 - val_loss: 0.0049 - val_acc: 0.9992\n",
      "Epoch 16/50\n",
      "227845/227845 [==============================] - 6s 25us/step - loss: 0.0054 - acc: 0.9991 - val_loss: 0.0048 - val_acc: 0.9993\n",
      "Epoch 17/50\n",
      "227845/227845 [==============================] - 5s 23us/step - loss: 0.0054 - acc: 0.9989 - val_loss: 0.0048 - val_acc: 0.9993\n",
      "Epoch 18/50\n",
      "227845/227845 [==============================] - 6s 25us/step - loss: 0.0053 - acc: 0.9991 - val_loss: 0.0047 - val_acc: 0.9993\n",
      "Epoch 19/50\n",
      "227845/227845 [==============================] - 6s 25us/step - loss: 0.0051 - acc: 0.9991 - val_loss: 0.0046 - val_acc: 0.9993\n",
      "Epoch 20/50\n",
      "227845/227845 [==============================] - 6s 26us/step - loss: 0.0050 - acc: 0.9991 - val_loss: 0.0046 - val_acc: 0.9993\n",
      "Epoch 21/50\n",
      "227845/227845 [==============================] - 5s 24us/step - loss: 0.0049 - acc: 0.9991 - val_loss: 0.0044 - val_acc: 0.9993\n",
      "Epoch 22/50\n",
      "227845/227845 [==============================] - 5s 22us/step - loss: 0.0048 - acc: 0.9992 - val_loss: 0.0043 - val_acc: 0.9994\n",
      "Epoch 23/50\n",
      "227845/227845 [==============================] - 5s 22us/step - loss: 0.0049 - acc: 0.9991 - val_loss: 0.0042 - val_acc: 0.9994\n",
      "Epoch 24/50\n",
      "227845/227845 [==============================] - 5s 20us/step - loss: 0.0047 - acc: 0.9992 - val_loss: 0.0041 - val_acc: 0.9994\n",
      "Epoch 25/50\n",
      "227845/227845 [==============================] - 5s 21us/step - loss: 0.0048 - acc: 0.9991 - val_loss: 0.0041 - val_acc: 0.9994\n",
      "Epoch 26/50\n",
      "227845/227845 [==============================] - 5s 21us/step - loss: 0.0047 - acc: 0.9991 - val_loss: 0.0040 - val_acc: 0.9994\n",
      "Epoch 27/50\n",
      "227845/227845 [==============================] - 5s 21us/step - loss: 0.0046 - acc: 0.9992 - val_loss: 0.0039 - val_acc: 0.9994\n",
      "Epoch 28/50\n",
      "227845/227845 [==============================] - 5s 20us/step - loss: 0.0045 - acc: 0.9992 - val_loss: 0.0039 - val_acc: 0.9994\n",
      "Epoch 29/50\n",
      "227845/227845 [==============================] - 5s 21us/step - loss: 0.0044 - acc: 0.9992 - val_loss: 0.0039 - val_acc: 0.9994\n",
      "Epoch 30/50\n",
      "227845/227845 [==============================] - 5s 21us/step - loss: 0.0045 - acc: 0.9992 - val_loss: 0.0038 - val_acc: 0.9994\n",
      "Epoch 31/50\n",
      "227845/227845 [==============================] - 5s 20us/step - loss: 0.0043 - acc: 0.9992 - val_loss: 0.0037 - val_acc: 0.9994\n",
      "Epoch 32/50\n",
      "227845/227845 [==============================] - 5s 21us/step - loss: 0.0044 - acc: 0.9992 - val_loss: 0.0037 - val_acc: 0.9994\n",
      "Epoch 33/50\n",
      "227845/227845 [==============================] - 5s 21us/step - loss: 0.0043 - acc: 0.9992 - val_loss: 0.0037 - val_acc: 0.9994\n",
      "Epoch 34/50\n",
      "227845/227845 [==============================] - 5s 21us/step - loss: 0.0044 - acc: 0.9992 - val_loss: 0.0036 - val_acc: 0.9994\n",
      "Epoch 35/50\n",
      "227845/227845 [==============================] - 5s 20us/step - loss: 0.0043 - acc: 0.9992 - val_loss: 0.0036 - val_acc: 0.9994\n",
      "Epoch 36/50\n",
      "227845/227845 [==============================] - 5s 20us/step - loss: 0.0041 - acc: 0.9992 - val_loss: 0.0036 - val_acc: 0.9995\n",
      "Epoch 37/50\n",
      "227845/227845 [==============================] - 5s 20us/step - loss: 0.0041 - acc: 0.9992 - val_loss: 0.0035 - val_acc: 0.9995\n",
      "Epoch 38/50\n",
      "227845/227845 [==============================] - 5s 22us/step - loss: 0.0043 - acc: 0.9992 - val_loss: 0.0035 - val_acc: 0.9995\n",
      "Epoch 39/50\n",
      "227845/227845 [==============================] - 5s 21us/step - loss: 0.0041 - acc: 0.9992 - val_loss: 0.0035 - val_acc: 0.9995\n",
      "Epoch 40/50\n",
      "227845/227845 [==============================] - 5s 21us/step - loss: 0.0041 - acc: 0.9993 - val_loss: 0.0035 - val_acc: 0.9995\n",
      "Epoch 41/50\n",
      "227845/227845 [==============================] - 5s 21us/step - loss: 0.0041 - acc: 0.9993 - val_loss: 0.0035 - val_acc: 0.9995\n",
      "Epoch 42/50\n",
      "227845/227845 [==============================] - 4s 19us/step - loss: 0.0041 - acc: 0.9992 - val_loss: 0.0035 - val_acc: 0.9995\n",
      "Epoch 43/50\n",
      "227845/227845 [==============================] - 5s 21us/step - loss: 0.0040 - acc: 0.9993 - val_loss: 0.0035 - val_acc: 0.9995\n",
      "Epoch 44/50\n",
      "227845/227845 [==============================] - 5s 20us/step - loss: 0.0040 - acc: 0.9992 - val_loss: 0.0034 - val_acc: 0.9995\n",
      "Epoch 45/50\n",
      "227845/227845 [==============================] - 5s 20us/step - loss: 0.0041 - acc: 0.9992 - val_loss: 0.0034 - val_acc: 0.9995\n",
      "Epoch 46/50\n",
      "227845/227845 [==============================] - 5s 21us/step - loss: 0.0040 - acc: 0.9993 - val_loss: 0.0034 - val_acc: 0.9995\n",
      "Epoch 47/50\n",
      "227845/227845 [==============================] - 5s 20us/step - loss: 0.0040 - acc: 0.9992 - val_loss: 0.0034 - val_acc: 0.9995\n",
      "Epoch 48/50\n",
      "227845/227845 [==============================] - 5s 21us/step - loss: 0.0040 - acc: 0.9992 - val_loss: 0.0034 - val_acc: 0.9995\n",
      "Epoch 49/50\n",
      "227845/227845 [==============================] - 5s 21us/step - loss: 0.0039 - acc: 0.9992 - val_loss: 0.0034 - val_acc: 0.9995\n",
      "Epoch 50/50\n",
      "227845/227845 [==============================] - 5s 20us/step - loss: 0.0038 - acc: 0.9993 - val_loss: 0.0034 - val_acc: 0.9995\n"
     ]
    }
   ],
   "source": [
    "history = model.fit(X_train, y_train, batch_size=500, epochs=50, verbose=1, validation_data=(X_test, y_test))"
   ]
  },
  {
   "cell_type": "code",
   "execution_count": 85,
   "metadata": {},
   "outputs": [
    {
     "data": {
      "image/png": "[encoded data removed]",
      "text/plain": [
       "<Figure size 432x288 with 1 Axes>"
      ]
     },
     "metadata": {
      "needs_background": "light"
     },
     "output_type": "display_data"
    }
   ],
   "source": [
    "plt.plot(history.history['loss'])\n",
    "plt.plot(history.history['val_loss'])\n",
    "plt.legend(['train', 'test']);"
   ]
  },
  {
   "cell_type": "markdown",
   "metadata": {},
   "source": [
    "### Методы оптимизации\n",
    "\n",
    "https://habr.com/ru/post/318970/\n",
    "\n",
    "- метод адаптивной инерции"
   ]
  },
  {
   "cell_type": "markdown",
   "metadata": {},
   "source": [
    "### Функции потерь"
   ]
  },
  {
   "cell_type": "code",
   "execution_count": 87,
   "metadata": {},
   "outputs": [
    {
     "name": "stdout",
     "output_type": "stream",
     "text": [
      "              precision    recall  f1-score   support\n",
      "\n",
      "           0       1.00      1.00      1.00     56878\n",
      "           1       0.78      0.90      0.84        84\n",
      "\n",
      "   micro avg       1.00      1.00      1.00     56962\n",
      "   macro avg       0.89      0.95      0.92     56962\n",
      "weighted avg       1.00      1.00      1.00     56962\n",
      "\n"
     ]
    }
   ],
   "source": [
    "print(classification_report(y_pred, y_test))"
   ]
  },
  {
   "cell_type": "markdown",
   "metadata": {},
   "source": [
    "### Callbacks\n",
    "\n",
    "- early stopping"
   ]
  },
  {
   "cell_type": "code",
   "execution_count": null,
   "metadata": {},
   "outputs": [],
   "source": [
    "model = baseline_model()\n",
    "\n",
    "early_stopping = EarlyStopping(monitor='val_loss', patience=10)"
   ]
  },
  {
   "cell_type": "markdown",
   "metadata": {},
   "source": [
    "### Кросс-валидация"
   ]
  },
  {
   "cell_type": "code",
   "execution_count": 108,
   "metadata": {},
   "outputs": [],
   "source": [
    "estimators = []\n",
    "estimators.append(('standardize', StandardScaler()))\n",
    "estimators.append(('MLP', KerasClassifier(build_fn=baseline_model, epochs=5, batch_size=32, verbose=0)))\n",
    "\n",
    "pipeline = Pipeline(estimators)"
   ]
  },
  {
   "cell_type": "code",
   "execution_count": 109,
   "metadata": {},
   "outputs": [
    {
     "name": "stdout",
     "output_type": "stream",
     "text": [
      "Metrics:  0.808875604584415 0.03409332943605331\n"
     ]
    }
   ],
   "source": [
    "kfold = StratifiedKFold(n_splits=5, random_state=2019)\n",
    "results = cross_val_score(pipeline, X_train, y_train, cv=kfold, scoring='f1')\n",
    "\n",
    "print('Metrics: ', results.mean(), results.std())"
   ]
  }
 ],
 "metadata": {
  "kernelspec": {
   "display_name": "Python 3",
   "language": "python",
   "name": "python3"
  },
  "language_info": {
   "codemirror_mode": {
    "name": "ipython",
    "version": 3
   },
   "file_extension": ".py",
   "mimetype": "text/x-python",
   "name": "python",
   "nbconvert_exporter": "python",
   "pygments_lexer": "ipython3",
   "version": "3.6.8"
  }
 },
 "nbformat": 4,
 "nbformat_minor": 2
}

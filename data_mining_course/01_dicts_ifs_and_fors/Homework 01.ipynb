{
 "cells": [
  {
   "cell_type": "code",
   "execution_count": 3,
   "metadata": {},
   "outputs": [
    {
     "name": "stdout",
     "output_type": "stream",
     "text": [
      "123\n",
      "123\n",
      "123\n",
      "done\n"
     ]
    },
    {
     "data": {
      "text/plain": [
       "123.0"
      ]
     },
     "execution_count": 3,
     "metadata": {},
     "output_type": "execute_result"
    }
   ],
   "source": [
    "#1. (3 балла)\n",
    "#Напишите программу, в которой пользователь вводит числа по одному, пока не введет слово \"done\". \n",
    "#Для полученного списка чисел найдите среднее арифметическое. Для ввода используйте встроенную функцию input().\n",
    "\n",
    "numbers = [] \n",
    "while True:\n",
    "    number = input()\n",
    "    if number == 'done':\n",
    "        break\n",
    "    numbers.append(float(number))\n",
    "sum(numbers) / len(numbers)    "
   ]
  },
  {
   "cell_type": "code",
   "execution_count": 4,
   "metadata": {},
   "outputs": [
    {
     "name": "stdout",
     "output_type": "stream",
     "text": [
      "324\n",
      "5\n",
      "678\n",
      "done\n"
     ]
    },
    {
     "data": {
      "text/plain": [
       "5.0"
      ]
     },
     "execution_count": 4,
     "metadata": {},
     "output_type": "execute_result"
    }
   ],
   "source": [
    "#2. (1 балл)\n",
    "#Напишите аналогичную программу, но для полученного списка найдите минимум и максимум.\n",
    "\n",
    "numbers = [] \n",
    "while True:\n",
    "    number = input()\n",
    "    if number == 'done':\n",
    "        break\n",
    "    numbers.append(float(number))\n",
    "min(numbers)"
   ]
  },
  {
   "cell_type": "code",
   "execution_count": 5,
   "metadata": {},
   "outputs": [
    {
     "name": "stdout",
     "output_type": "stream",
     "text": [
      "234\n",
      "234\n",
      "567\n",
      "2\n",
      "done\n"
     ]
    },
    {
     "data": {
      "text/plain": [
       "567.0"
      ]
     },
     "execution_count": 5,
     "metadata": {},
     "output_type": "execute_result"
    }
   ],
   "source": [
    "numbers = [] \n",
    "while True:\n",
    "    number = input()\n",
    "    if number == 'done':\n",
    "        break\n",
    "    numbers.append(float(number))\n",
    "max(numbers)"
   ]
  },
  {
   "cell_type": "code",
   "execution_count": 6,
   "metadata": {},
   "outputs": [
    {
     "name": "stdout",
     "output_type": "stream",
     "text": [
      "Input\n",
      "d1:\n",
      "{'Item1': {'Name': 'Cake', 'Price': 20},\n",
      " 'Item2': {'Name': 'Pie', 'Price': 10},\n",
      " 'Item3': {'Name': 'Chocobar', 'Price': 5}}\n",
      "d2:\n",
      "{'Item4': {'Name': 'Brownie', 'Price': 15},\n",
      " 'Item5': {'Name': 'Cake', 'Price': 20}}\n",
      "\n",
      "Output\n",
      "{'Item1': {'Name': 'Cake', 'Price': 20},\n",
      " 'Item2': {'Name': 'Pie', 'Price': 10},\n",
      " 'Item3': {'Name': 'Chocobar', 'Price': 5},\n",
      " 'Item4': {'Name': 'Brownie', 'Price': 15}}\n"
     ]
    }
   ],
   "source": [
    "#3. (2 балла, 1+1)\n",
    "#На вход подается два словаря d1 и d2 с карточками продуктов. \n",
    "#Необходимо объединить оба словаря в один и удалить дубликаты значений (values в терминах метода dict()), если они есть, и вывести итоговый словарь. \n",
    "#За объединение словаря 1 балл и еще 1 балл за корректное удаление дубликатов.\n",
    "\n",
    "#При простом объединении словарей, если совпадают и ключи, и значения, словарь сам убирает дубликаты. \n",
    "#В этом плане он похож на set(). Но наш случай не настолько тривиальный, у нас основные ключи разные, а значения, то есть внутренние словари, могут быть одинаковыми. \n",
    "#Вот как раз от одинаковых значений (внутренних словарей) надо избавиться. Какой в итоге ему ключ будет присвоен из дубликатов - не имеет значения.\n",
    "\n",
    "d1 = {'key1': 'v1', 'key2': 'v3'}\n",
    "\n",
    "d2 = {'key2': 'v2'}\n",
    "\n",
    "d1.update(d2)\n",
    "\n",
    "d1 = {'Item1': \n",
    "          {'Name': 'Cake', 'Price': 20}, \n",
    "      'Item2': \n",
    "          {'Name': 'Pie', 'Price': 10},\n",
    "      'Item3': \n",
    "          {'Name': 'Chocobar', 'Price': 5}\n",
    "     }\n",
    "d2 = {'Item4': \n",
    "          {'Name': 'Brownie', 'Price': 15},\n",
    "      'Item5': \n",
    "          {'Name': 'Cake', 'Price': 20}\n",
    "     }\n",
    "\n",
    "print('Input')\n",
    "print('d1:')\n",
    "from pprint import pprint\n",
    "pprint(d1)\n",
    "\n",
    "print('d2:')\n",
    "pprint(d2)\n",
    "\n",
    "dd = d1.copy()\n",
    "dd.update(d2)\n",
    "\n",
    "d = {} \n",
    "\n",
    "for key, value in dd.items():\n",
    "    if value not in d.values():\n",
    "        d[key] = value\n",
    "print()\n",
    "print('Output')\n",
    "pprint(d)"
   ]
  },
  {
   "cell_type": "code",
   "execution_count": 8,
   "metadata": {},
   "outputs": [
    {
     "name": "stdout",
     "output_type": "stream",
     "text": [
      "Sum of d products is: 50\n"
     ]
    }
   ],
   "source": [
    "#4. (1 балл)\n",
    "#Для объединенного словаря из прошлого примера посчитайте итоговую сумму продуктов.\n",
    "\n",
    "d_sum = 0\n",
    "for value in d.values():\n",
    "    d_sum += value['Price']\n",
    "print('Sum of d products is:', d_sum)"
   ]
  },
  {
   "cell_type": "code",
   "execution_count": 10,
   "metadata": {},
   "outputs": [
    {
     "name": "stdout",
     "output_type": "stream",
     "text": [
      "Input\n",
      "d1:\n",
      "{'Item1': 120, 'Item2': 100, 'Item3': 500}\n",
      "d2:\n",
      "{'Item1': 5, 'Item2': 12, 'Item3': 7}\n",
      "\n",
      "Output\n",
      "{'Item1': 600, 'Item2': 1200, 'Item3': 3500}\n"
     ]
    }
   ],
   "source": [
    "#5. (2 балла)\n",
    "#Дан один словарь с запасами продуктов на складе. \n",
    "#Дан второй словарь со стоимостью этих товаров. Создать словарь с балансом этих продуктов и вывести его.\n",
    "\n",
    "d1 = {'Item1': 120, \n",
    "      'Item2': 100,\n",
    "      'Item3': 500}\n",
    "d2 = {'Item1': 5,\n",
    "      'Item2': 12,\n",
    "      'Item3': 7}\n",
    "print('Input')\n",
    "print('d1:')\n",
    "pprint(d1)\n",
    "print('d2:')\n",
    "pprint(d2)\n",
    "\n",
    "d = {}\n",
    "\n",
    "for key in d1.keys():\n",
    "    d[key] = d1[key] * d2[key]\n",
    "    \n",
    "print()\n",
    "print('Output')\n",
    "pprint(d)"
   ]
  },
  {
   "cell_type": "code",
   "execution_count": 12,
   "metadata": {},
   "outputs": [],
   "source": [
    "#6* (1 балл)\n",
    "#Напишите программу для генерации песни \"Hey Jude\". В этой песне 4 куплета и многие слова повторяются. \n",
    "#Цель - использовать как можно меньше кода. \n",
    "#В схеме ниже #1 и #2 означают, что используются строчки из первого и второго куплета соотв. <img src='jude.jpg' width=600>\n",
    "\n",
    "hey_jude_lyrics =  ['Hey Jude, ', \n",
    "                    [\"don't make it bad\\n\", \"don't be afraid\\n\", \"don't let me down\\n\"], \n",
    "                    [\"Take a sad song and make it better\\n\", \"You were made to go out and get her\\n\", \"You have found her, now go and get her\\n\"],\n",
    "                    ['Remember to ', 'The minute you '], \n",
    "                    ['let her into your heart\\n', 'let her under your skin\\n'],\n",
    "                    'Then you ',\n",
    "                    ['can start ', 'begin '],\n",
    "                    'to make it better\\n'] \n",
    "\n",
    "hey_jude_compiled = ''\n",
    "\n",
    "for verse_i in range(4):\n",
    "    for module_i in range(len(hey_jude_lyrics)):\n",
    "        module = hey_jude_lyrics[module_i]\n",
    "        if module_i in [0, 5, 7]:\n",
    "            hey_jude_compiled += module\n",
    "        elif module_i in [1, 2]:\n",
    "            hey_jude_compiled += module[verse_i % 3]\n",
    "        elif module_i == 3:\n",
    "            if verse_i < 2:\n",
    "                hey_jude_compiled += module[verse_i]\n",
    "            else:\n",
    "                hey_jude_compiled += module[0]\n",
    "        elif module_i in [4, 6]:\n",
    "            hey_jude_compiled += module[verse_i % 2]\n",
    "    hey_jude_compiled += '\\n'\n",
    "    \n",
    "hey_jude_compiled = hey_jude_compiled.rstrip()"
   ]
  },
  {
   "cell_type": "code",
   "execution_count": 13,
   "metadata": {},
   "outputs": [],
   "source": [
    "hey_jude_compiled_golden = \"\"\"Hey Jude, don't make it bad\n",
    "Take a sad song and make it better\n",
    "Remember to let her into your heart\n",
    "Then you can start to make it better\n",
    "\n",
    "Hey Jude, don't be afraid\n",
    "You were made to go out and get her\n",
    "The minute you let her under your skin\n",
    "Then you begin to make it better\n",
    "\n",
    "Hey Jude, don't let me down\n",
    "You have found her, now go and get her\n",
    "Remember to let her into your heart\n",
    "Then you can start to make it better\n",
    "\n",
    "Hey Jude, don't make it bad\n",
    "Take a sad song and make it better\n",
    "Remember to let her under your skin\n",
    "Then you begin to make it better\"\"\""
   ]
  },
  {
   "cell_type": "code",
   "execution_count": 14,
   "metadata": {},
   "outputs": [
    {
     "data": {
      "text/plain": [
       "True"
      ]
     },
     "execution_count": 14,
     "metadata": {},
     "output_type": "execute_result"
    }
   ],
   "source": [
    "hey_jude_compiled == hey_jude_compiled_golden"
   ]
  }
 ],
 "metadata": {
  "kernelspec": {
   "display_name": "Python 3",
   "language": "python",
   "name": "python3"
  },
  "language_info": {
   "codemirror_mode": {
    "name": "ipython",
    "version": 3
   },
   "file_extension": ".py",
   "mimetype": "text/x-python",
   "name": "python",
   "nbconvert_exporter": "python",
   "pygments_lexer": "ipython3",
   "version": "3.6.5"
  }
 },
 "nbformat": 4,
 "nbformat_minor": 2
}

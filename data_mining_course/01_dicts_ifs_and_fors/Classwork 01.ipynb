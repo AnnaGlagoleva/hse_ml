{
 "cells": [
  {
   "cell_type": "markdown",
   "metadata": {},
   "source": [
    "Блиц 1\n",
    "\n",
    "\n",
    "1.1 Дан список слов ['Hello', 'from', 'the', 'other', 'side']. Пройдите по нему циклом for и получите переменную lyrics = 'Hello from the other side'.\n",
    "\n",
    "1.2 Для этого же списка слов получите переменную lyrics_reversed = 'side other the from Hello'\n",
    "\n",
    "1.3 Заполните список квадратами целых чисел от 0 до 10 включительно. Используйте в коде цикл for, функции range() и метод .append()\n",
    "\n",
    "1.4 Дан список [0, 10, 20, 30, 40]. Прибавьте к каждому элементу этого списка его индекс. В ответе должно получиться [0, 11, 22, 33, 44]"
   ]
  },
  {
   "cell_type": "code",
   "execution_count": 2,
   "metadata": {},
   "outputs": [
    {
     "data": {
      "text/plain": [
       "'Hello from the other side'"
      ]
     },
     "execution_count": 2,
     "metadata": {},
     "output_type": "execute_result"
    }
   ],
   "source": [
    "#1.1\n",
    "\n",
    "lyrics = ''\n",
    "for word in ['Hello', 'from', 'the', 'other', 'side']:\n",
    "    lyrics += word + ' '\n",
    "    \n",
    "lyrics = lyrics[:-1]\n",
    "lyrics"
   ]
  },
  {
   "cell_type": "code",
   "execution_count": 4,
   "metadata": {},
   "outputs": [
    {
     "data": {
      "text/plain": [
       "'side other the from Hello'"
      ]
     },
     "execution_count": 4,
     "metadata": {},
     "output_type": "execute_result"
    }
   ],
   "source": [
    "#1.2\n",
    "\n",
    "lyrics_reversed = ''\n",
    "for word in ['Hello', 'from', 'the', 'other', 'side'][::-1]:\n",
    "    lyrics_reversed += word + ' '\n",
    "\n",
    "lyrics_reversed = lyrics_reversed[:-1] \n",
    "lyrics_reversed"
   ]
  },
  {
   "cell_type": "code",
   "execution_count": 7,
   "metadata": {},
   "outputs": [
    {
     "data": {
      "text/plain": [
       "[0, 1, 4, 9, 16, 25, 36, 49, 64, 81, 100]"
      ]
     },
     "execution_count": 7,
     "metadata": {},
     "output_type": "execute_result"
    }
   ],
   "source": [
    "#1.3\n",
    "squared_numbers = [] \n",
    "for number in range(11):\n",
    "    squared_numbers.append(number ** 2)\n",
    "\n",
    "squared_numbers"
   ]
  },
  {
   "cell_type": "code",
   "execution_count": 10,
   "metadata": {},
   "outputs": [
    {
     "name": "stdout",
     "output_type": "stream",
     "text": [
      "[0, 11, 22, 33, 44, 65]\n"
     ]
    }
   ],
   "source": [
    "#1.4\n",
    "numbers = [0, 10, 20, 30, 40, 60]\n",
    "\n",
    "for index in range(len(numbers)):\n",
    "    numbers[index] += index\n",
    "print(numbers)"
   ]
  },
  {
   "cell_type": "markdown",
   "metadata": {},
   "source": [
    "Блиц 2\n",
    "\n",
    "\n",
    "2.1 Используя цикл while, выведите на экран для числа 2 его степени от 0 до 20. Возведение в степень в Python обозначается как **.\n",
    "\n",
    "2.2 Напишите программу, которая печатает целые числа от 1 до 50. Но для тех чисел, которые кратны 7, вместо числа выведите слово \"fizz\". А для тех, которые кратны и 7, и 4, выведите слово \"buzz\"."
   ]
  },
  {
   "cell_type": "code",
   "execution_count": 11,
   "metadata": {},
   "outputs": [
    {
     "name": "stdout",
     "output_type": "stream",
     "text": [
      "1\n",
      "2\n",
      "4\n",
      "8\n",
      "16\n",
      "32\n",
      "64\n",
      "128\n",
      "256\n",
      "512\n",
      "1024\n",
      "2048\n",
      "4096\n",
      "8192\n",
      "16384\n",
      "32768\n",
      "65536\n",
      "131072\n",
      "262144\n",
      "524288\n",
      "1048576\n"
     ]
    }
   ],
   "source": [
    "#2.1\n",
    "power = 0\n",
    "\n",
    "while power <= 20:\n",
    "    print(2 ** power)\n",
    "    power += 1"
   ]
  },
  {
   "cell_type": "code",
   "execution_count": 12,
   "metadata": {},
   "outputs": [
    {
     "name": "stdout",
     "output_type": "stream",
     "text": [
      "1\n",
      "2\n",
      "3\n",
      "4\n",
      "5\n",
      "6\n",
      "fizz\n",
      "8\n",
      "9\n",
      "10\n",
      "11\n",
      "12\n",
      "13\n",
      "fizz\n",
      "15\n",
      "16\n",
      "17\n",
      "18\n",
      "19\n",
      "20\n",
      "fizz\n",
      "22\n",
      "23\n",
      "24\n",
      "25\n",
      "26\n",
      "27\n",
      "buzz\n",
      "29\n",
      "30\n",
      "31\n",
      "32\n",
      "33\n",
      "34\n",
      "fizz\n",
      "36\n",
      "37\n",
      "38\n",
      "39\n",
      "40\n",
      "41\n",
      "fizz\n",
      "43\n",
      "44\n",
      "45\n",
      "46\n",
      "47\n",
      "48\n",
      "fizz\n",
      "50\n"
     ]
    }
   ],
   "source": [
    "#2.2\n",
    "number = 1\n",
    "\n",
    "while number <= 50:\n",
    "    if number % 7 == 0 and number % 4 == 0:\n",
    "        print('buzz')\n",
    "    elif number % 7 == 0:\n",
    "        print('fizz')\n",
    "    else:\n",
    "        print(number)\n",
    "        \n",
    "    number += 1"
   ]
  },
  {
   "cell_type": "markdown",
   "metadata": {},
   "source": [
    "Блиц 3\n",
    "\n",
    "\n",
    "3.1. Перепише код выше так, чтобы не использовался только оператор if (без else)\n",
    "\n",
    "3.2. Используйте цикл while для печати последовательных целых чисел начиная с x (может быть отрицательным). Пусть цикл остановится когда текущее число будет в точности делиться на 11, но если текущее число 0, то нужно продолжить итерацию."
   ]
  },
  {
   "cell_type": "code",
   "execution_count": 13,
   "metadata": {},
   "outputs": [
    {
     "name": "stdout",
     "output_type": "stream",
     "text": [
      "0\n",
      "1\n",
      "2\n"
     ]
    }
   ],
   "source": [
    "#3.1\n",
    "\n",
    "x = 0\n",
    "\n",
    "while x < 7:\n",
    "    if x != 3:\n",
    "        print(x)\n",
    "    else:\n",
    "        break\n",
    "    x += 1"
   ]
  },
  {
   "cell_type": "code",
   "execution_count": 14,
   "metadata": {},
   "outputs": [
    {
     "name": "stdout",
     "output_type": "stream",
     "text": [
      "-10\n",
      "-9\n",
      "-8\n",
      "-7\n",
      "-6\n",
      "-5\n",
      "-4\n",
      "-3\n",
      "-2\n",
      "-1\n",
      "0\n",
      "1\n",
      "2\n",
      "3\n",
      "4\n",
      "5\n",
      "6\n",
      "7\n",
      "8\n",
      "9\n",
      "10\n"
     ]
    }
   ],
   "source": [
    "#3.2\n",
    "x = -10\n",
    "while x % 11 != 0 or x == 0:\n",
    "    print(x)\n",
    "    x += 1"
   ]
  },
  {
   "cell_type": "markdown",
   "metadata": {},
   "source": [
    "Блиц 4\n",
    "\n",
    "\n",
    "4.1 Создайте словарь superhero_ranks. Назначьте значение 2 Аквамену и значение 1 Супермену\n",
    "\n",
    "4.2 Дан список целых чисел. Сформировать словарь, в котором ключами будут числа, а значенями - количество употреблений данных чисел в списке. Например, если дан список [1, 1, 3, 2, 1, 3, 4], то в нем число 1 встречается три раза, число 3 - два раза, числа 2 и 4 - по одному разу."
   ]
  },
  {
   "cell_type": "code",
   "execution_count": 15,
   "metadata": {},
   "outputs": [
    {
     "data": {
      "text/plain": [
       "{'Супермен': 1, 'Аквамен': 2}"
      ]
     },
     "execution_count": 15,
     "metadata": {},
     "output_type": "execute_result"
    }
   ],
   "source": [
    "# 4.1 \n",
    "superhero_ranks = {'Супермен': 1, 'Аквамен': 2}\n",
    "superhero_ranks"
   ]
  },
  {
   "cell_type": "code",
   "execution_count": 17,
   "metadata": {},
   "outputs": [],
   "source": [
    "# 4.2\n",
    "number_stats = {}\n",
    "for number in [1, 1, 3, 2, 1, 3, 4]:\n",
    "    if number not in number_stats:\n",
    "        number_stats[number] = 1\n",
    "    else:\n",
    "        number_stats[number] += 1"
   ]
  },
  {
   "cell_type": "code",
   "execution_count": 18,
   "metadata": {},
   "outputs": [
    {
     "data": {
      "text/plain": [
       "{1: 3, 3: 2, 2: 1, 4: 1}"
      ]
     },
     "execution_count": 18,
     "metadata": {},
     "output_type": "execute_result"
    }
   ],
   "source": [
    "number_stats"
   ]
  }
 ],
 "metadata": {
  "kernelspec": {
   "display_name": "Python 3",
   "language": "python",
   "name": "python3"
  },
  "language_info": {
   "codemirror_mode": {
    "name": "ipython",
    "version": 3
   },
   "file_extension": ".py",
   "mimetype": "text/x-python",
   "name": "python",
   "nbconvert_exporter": "python",
   "pygments_lexer": "ipython3",
   "version": "3.6.5"
  }
 },
 "nbformat": 4,
 "nbformat_minor": 2
}

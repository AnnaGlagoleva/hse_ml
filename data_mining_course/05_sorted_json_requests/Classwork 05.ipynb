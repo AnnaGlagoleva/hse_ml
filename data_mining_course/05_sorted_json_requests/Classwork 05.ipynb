{
 "cells": [
  {
   "cell_type": "markdown",
   "metadata": {},
   "source": [
    "Блиц 0:\n",
    "Дана фильмография актера.\n",
    "\n",
    "1. Отсортируйте фильмы по годам от новых к старым\n",
    "2. Отсортируйте фильмы по длине названия"
   ]
  },
  {
   "cell_type": "code",
   "execution_count": 3,
   "metadata": {},
   "outputs": [],
   "source": [
    "movies = \"\"\"1983  ф Резиновое лицо  Rubberface (Introducting… Janet)  Тони Морони\n",
    "2000  ф Я, снова я и Ирэн Me, Myself and Irene  Офицер Чарли Бэйлигейтс/Хэнк\n",
    "2008  ф Всегда говори «Да»  Yes man Карл Аллен\n",
    "1989  ф Земные девушки легко доступны Earth Girls Are Easy  Уиплок\n",
    "1988  ф Смертельный список  The Dead Pool Джонни Squares\n",
    "2011  с Офис  The Office  Парень из Пальцевых Озер (одна серия)\n",
    "2009  ф Я люблю тебя, Филлип Моррис I Love You Phillip Morris Стив Рассел\n",
    "1983  ф Всё в хорошем вкусе All in Good Taste Ральф\n",
    "2009  мф  Рождественская история  A Christmas Carol Эбенезер Скрудж, призраки\n",
    "1984 — 1984 с Утиная фабрика  The Duck Factory  Скип Таркентон\n",
    "2007  ф Роковое число 23  Number 23 Уолтер Спэрроу\n",
    "2017  ф Джим и Энди - великое запределье  Оригинальное название неизвестно\n",
    "2008  мф  Хортон  Horton Hears a Who! Хортон (голос)\n",
    "2003  ф Брюс всемогущий Bruce Almighty  Брюс Нолан\n",
    "1996  ф Кабельщик The Cable Guy Кабельщик/Чип/Рики\n",
    "2009  ф Под морем в 3D  Under the Sea 3D  рассказчик\n",
    "2013  ф Невероятный Бёрт Уандерстоун  Burt Wonderstone  Стив Грэй\n",
    "1989  ф Розовый кадиллак  Pink Cadillac Комедиант\n",
    "2013  ф Телеведущий 2 Anchorman: The Legend Continues ведущий Скотт Райлс\n",
    "1999  ф Человек на Луне Man on the Moon Энди Кауфман/Тони Клифтон\n",
    "1994  ф Маска The Mask  Стэнли Ипкисс\n",
    "2011  ф Пингвины мистера Поппера  Mr. Popper’s Penguins Том Поппер\n",
    "2000  ф Гринч — похититель Рождества  How the Grinch Stole Christmas  Гринч\n",
    "1986  ф Пегги Сью вышла замуж Peggy Sue Got Married Уолтер Гетц\n",
    "1998  ф Шоу Трумана The Truman Show Трумэн Бёрбэнк\n",
    "1983  ф Гора Куппер Copper Mountain Бобби Тодд\n",
    "2013  ф Пипец 2 Kick-Ass 2  Полковник Америка\n",
    "1985  ф Однажды укушенный Once Bitten Марк Кендэлл\n",
    "2005  ф Аферисты Дик и Джейн  Fun with Dick and Jane  Дик Харпер\n",
    "1995  ф Бэтмен навсегда Batman Forever  Эдвард Нигма/Загадочник\n",
    "1990 — 1994 с В живом цвете In Living Color Различные роли\n",
    "1984  ф Чур, мое! Finders Keepers Лэйн Бидлекофф\n",
    "1995  ф Эйс Вентура 2: Когда зовёт природа  Ace Ventura: When Nature Calls  Эйс Вентура\n",
    "2016  ф Настоящее преступление  True Crimes Джек\n",
    "1993  ф Эйс Вентура: Розыск домашних животных Ace Ventura: Pet Detective  Эйс Вентура\n",
    "2016  ф Плохая партия The Bad Batch Питер\n",
    "2001  ф Мажестик  The Majestic  Питер Эпплтон\n",
    "1991  ф Нервы на пределе  High Strung Смерть\n",
    "2004  ф Лемони Сникет: 33 несчастья Lemony Snicket’s A Series of Unfortunate Events Граф Олаф\n",
    "2004  ф Вечное сияние чистого разума  Eternal Sunshine of the Spotless Mind Джоел Бэриш\n",
    "1997  ф Лжец, лжец  Liar Liar Флетчер Рид\n",
    "1992  мф  Крошечный паучок  Itsy Bitsy Spider Истребитель насекомых (голос)\n",
    "1992  ф Жизнь на Мэйпл-Драйв (ТВ) Doing Time on Maple Drive Тим Картер\n",
    "2014  ф Тупой и ещё тупее 2 Dumb & Dumber 2 Ллойд Кристмас\n",
    "1998  ф Саймон Бирч Simon Birch Взрослый Джо Вентеуорф\n",
    "1994  ф Тупой и ещё тупее Dumb & Dumber Ллойд Кристмас\"\"\""
   ]
  },
  {
   "cell_type": "code",
   "execution_count": 4,
   "metadata": {},
   "outputs": [
    {
     "data": {
      "text/plain": [
       "['2017  ф Джим и Энди - великое запределье  Оригинальное название неизвестно',\n",
       " '2016  ф Плохая партия The Bad Batch Питер',\n",
       " '2016  ф Настоящее преступление  True Crimes Джек',\n",
       " '2014  ф Тупой и ещё тупее 2 Dumb & Dumber 2 Ллойд Кристмас',\n",
       " '2013  ф Телеведущий 2 Anchorman: The Legend Continues ведущий Скотт Райлс',\n",
       " '2013  ф Пипец 2 Kick-Ass 2  Полковник Америка',\n",
       " '2013  ф Невероятный Бёрт Уандерстоун  Burt Wonderstone  Стив Грэй',\n",
       " '2011  ф Пингвины мистера Поппера  Mr. Popper’s Penguins Том Поппер',\n",
       " '2011  с Офис  The Office  Парень из Пальцевых Озер (одна серия)',\n",
       " '2009  ф Я люблю тебя, Филлип Моррис I Love You Phillip Morris Стив Рассел',\n",
       " '2009  ф Под морем в 3D  Under the Sea 3D  рассказчик',\n",
       " '2009  мф  Рождественская история  A Christmas Carol Эбенезер Скрудж, призраки',\n",
       " '2008  ф Всегда говори «Да»  Yes man Карл Аллен',\n",
       " '2008  мф  Хортон  Horton Hears a Who! Хортон (голос)',\n",
       " '2007  ф Роковое число 23  Number 23 Уолтер Спэрроу',\n",
       " '2005  ф Аферисты Дик и Джейн  Fun with Dick and Jane  Дик Харпер',\n",
       " '2004  ф Лемони Сникет: 33 несчастья Lemony Snicket’s A Series of Unfortunate Events Граф Олаф',\n",
       " '2004  ф Вечное сияние чистого разума  Eternal Sunshine of the Spotless Mind Джоел Бэриш',\n",
       " '2003  ф Брюс всемогущий Bruce Almighty  Брюс Нолан',\n",
       " '2001  ф Мажестик  The Majestic  Питер Эпплтон',\n",
       " '2000  ф Я, снова я и Ирэн Me, Myself and Irene  Офицер Чарли Бэйлигейтс/Хэнк',\n",
       " '2000  ф Гринч — похититель Рождества  How the Grinch Stole Christmas  Гринч',\n",
       " '1999  ф Человек на Луне Man on the Moon Энди Кауфман/Тони Клифтон',\n",
       " '1998  ф Шоу Трумана The Truman Show Трумэн Бёрбэнк',\n",
       " '1998  ф Саймон Бирч Simon Birch Взрослый Джо Вентеуорф',\n",
       " '1997  ф Лжец, лжец  Liar Liar Флетчер Рид',\n",
       " '1996  ф Кабельщик The Cable Guy Кабельщик/Чип/Рики',\n",
       " '1995  ф Эйс Вентура 2: Когда зовёт природа  Ace Ventura: When Nature Calls  Эйс Вентура',\n",
       " '1995  ф Бэтмен навсегда Batman Forever  Эдвард Нигма/Загадочник',\n",
       " '1994  ф Тупой и ещё тупее Dumb & Dumber Ллойд Кристмас',\n",
       " '1994  ф Маска The Mask  Стэнли Ипкисс',\n",
       " '1993  ф Эйс Вентура: Розыск домашних животных Ace Ventura: Pet Detective  Эйс Вентура',\n",
       " '1992  ф Жизнь на Мэйпл-Драйв (ТВ) Doing Time on Maple Drive Тим Картер',\n",
       " '1992  мф  Крошечный паучок  Itsy Bitsy Spider Истребитель насекомых (голос)',\n",
       " '1991  ф Нервы на пределе  High Strung Смерть',\n",
       " '1990 — 1994 с В живом цвете In Living Color Различные роли',\n",
       " '1989  ф Розовый кадиллак  Pink Cadillac Комедиант',\n",
       " '1989  ф Земные девушки легко доступны Earth Girls Are Easy  Уиплок',\n",
       " '1988  ф Смертельный список  The Dead Pool Джонни Squares',\n",
       " '1986  ф Пегги Сью вышла замуж Peggy Sue Got Married Уолтер Гетц',\n",
       " '1985  ф Однажды укушенный Once Bitten Марк Кендэлл',\n",
       " '1984 — 1984 с Утиная фабрика  The Duck Factory  Скип Таркентон',\n",
       " '1984  ф Чур, мое! Finders Keepers Лэйн Бидлекофф',\n",
       " '1983  ф Резиновое лицо  Rubberface (Introducting… Janet)  Тони Морони',\n",
       " '1983  ф Гора Куппер Copper Mountain Бобби Тодд',\n",
       " '1983  ф Всё в хорошем вкусе All in Good Taste Ральф']"
      ]
     },
     "execution_count": 4,
     "metadata": {},
     "output_type": "execute_result"
    }
   ],
   "source": [
    "sorted(movies.split('\\n'), reverse=True)"
   ]
  },
  {
   "cell_type": "code",
   "execution_count": 5,
   "metadata": {},
   "outputs": [
    {
     "data": {
      "text/plain": [
       "['1994  ф Маска The Mask  Стэнли Ипкисс',\n",
       " '2016  ф Плохая партия The Bad Batch Питер',\n",
       " '1997  ф Лжец, лжец  Liar Liar Флетчер Рид',\n",
       " '1991  ф Нервы на пределе  High Strung Смерть',\n",
       " '2013  ф Пипец 2 Kick-Ass 2  Полковник Америка',\n",
       " '2001  ф Мажестик  The Majestic  Питер Эпплтон',\n",
       " '2008  ф Всегда говори «Да»  Yes man Карл Аллен',\n",
       " '1983  ф Гора Куппер Copper Mountain Бобби Тодд',\n",
       " '1984  ф Чур, мое! Finders Keepers Лэйн Бидлекофф',\n",
       " '2016  ф Настоящее преступление  True Crimes Джек',\n",
       " '1989  ф Розовый кадиллак  Pink Cadillac Комедиант',\n",
       " '2007  ф Роковое число 23  Number 23 Уолтер Спэрроу',\n",
       " '2003  ф Брюс всемогущий Bruce Almighty  Брюс Нолан',\n",
       " '1996  ф Кабельщик The Cable Guy Кабельщик/Чип/Рики',\n",
       " '1998  ф Шоу Трумана The Truman Show Трумэн Бёрбэнк',\n",
       " '1985  ф Однажды укушенный Once Bitten Марк Кендэлл',\n",
       " '1983  ф Всё в хорошем вкусе All in Good Taste Ральф',\n",
       " '2008  мф  Хортон  Horton Hears a Who! Хортон (голос)',\n",
       " '2009  ф Под морем в 3D  Under the Sea 3D  рассказчик',\n",
       " '1998  ф Саймон Бирч Simon Birch Взрослый Джо Вентеуорф',\n",
       " '1994  ф Тупой и ещё тупее Dumb & Dumber Ллойд Кристмас',\n",
       " '1988  ф Смертельный список  The Dead Pool Джонни Squares',\n",
       " '1990 — 1994 с В живом цвете In Living Color Различные роли',\n",
       " '2014  ф Тупой и ещё тупее 2 Dumb & Dumber 2 Ллойд Кристмас',\n",
       " '1984 — 1984 с Утиная фабрика  The Duck Factory  Скип Таркентон',\n",
       " '2011  с Офис  The Office  Парень из Пальцевых Озер (одна серия)',\n",
       " '1986  ф Пегги Сью вышла замуж Peggy Sue Got Married Уолтер Гетц',\n",
       " '1995  ф Бэтмен навсегда Batman Forever  Эдвард Нигма/Загадочник',\n",
       " '2005  ф Аферисты Дик и Джейн  Fun with Dick and Jane  Дик Харпер',\n",
       " '2013  ф Невероятный Бёрт Уандерстоун  Burt Wonderstone  Стив Грэй',\n",
       " '1999  ф Человек на Луне Man on the Moon Энди Кауфман/Тони Клифтон',\n",
       " '1989  ф Земные девушки легко доступны Earth Girls Are Easy  Уиплок',\n",
       " '2011  ф Пингвины мистера Поппера  Mr. Popper’s Penguins Том Поппер',\n",
       " '1983  ф Резиновое лицо  Rubberface (Introducting… Janet)  Тони Морони',\n",
       " '1992  ф Жизнь на Мэйпл-Драйв (ТВ) Doing Time on Maple Drive Тим Картер',\n",
       " '2009  ф Я люблю тебя, Филлип Моррис I Love You Phillip Morris Стив Рассел',\n",
       " '2013  ф Телеведущий 2 Anchorman: The Legend Continues ведущий Скотт Райлс',\n",
       " '2017  ф Джим и Энди - великое запределье  Оригинальное название неизвестно',\n",
       " '2000  ф Гринч — похититель Рождества  How the Grinch Stole Christmas  Гринч',\n",
       " '1992  мф  Крошечный паучок  Itsy Bitsy Spider Истребитель насекомых (голос)',\n",
       " '2000  ф Я, снова я и Ирэн Me, Myself and Irene  Офицер Чарли Бэйлигейтс/Хэнк',\n",
       " '2009  мф  Рождественская история  A Christmas Carol Эбенезер Скрудж, призраки',\n",
       " '1993  ф Эйс Вентура: Розыск домашних животных Ace Ventura: Pet Detective  Эйс Вентура',\n",
       " '1995  ф Эйс Вентура 2: Когда зовёт природа  Ace Ventura: When Nature Calls  Эйс Вентура',\n",
       " '2004  ф Вечное сияние чистого разума  Eternal Sunshine of the Spotless Mind Джоел Бэриш',\n",
       " '2004  ф Лемони Сникет: 33 несчастья Lemony Snicket’s A Series of Unfortunate Events Граф Олаф']"
      ]
     },
     "execution_count": 5,
     "metadata": {},
     "output_type": "execute_result"
    }
   ],
   "source": [
    "sorted(movies.split('\\n'), key=len)"
   ]
  },
  {
   "cell_type": "code",
   "execution_count": 7,
   "metadata": {},
   "outputs": [],
   "source": [
    "import re\n",
    "movies_cleaned = []\n",
    "for movie in movies.split('\\n'):\n",
    "    movie_cut_pref = re.search('[А-Я].*', movie).group(0)\n",
    "    movies_cleaned.append(movie_cut_pref)"
   ]
  },
  {
   "cell_type": "code",
   "execution_count": 9,
   "metadata": {},
   "outputs": [
    {
     "data": {
      "text/plain": [
       "['Маска The Mask  Стэнли Ипкисс',\n",
       " 'Плохая партия The Bad Batch Питер',\n",
       " 'Лжец, лжец  Liar Liar Флетчер Рид',\n",
       " 'Нервы на пределе  High Strung Смерть',\n",
       " 'Пипец 2 Kick-Ass 2  Полковник Америка',\n",
       " 'Мажестик  The Majestic  Питер Эпплтон',\n",
       " 'Всегда говори «Да»  Yes man Карл Аллен',\n",
       " 'Гора Куппер Copper Mountain Бобби Тодд',\n",
       " 'Чур, мое! Finders Keepers Лэйн Бидлекофф',\n",
       " 'Настоящее преступление  True Crimes Джек',\n",
       " 'Розовый кадиллак  Pink Cadillac Комедиант',\n",
       " 'Роковое число 23  Number 23 Уолтер Спэрроу',\n",
       " 'Хортон  Horton Hears a Who! Хортон (голос)',\n",
       " 'Брюс всемогущий Bruce Almighty  Брюс Нолан',\n",
       " 'Кабельщик The Cable Guy Кабельщик/Чип/Рики',\n",
       " 'Шоу Трумана The Truman Show Трумэн Бёрбэнк',\n",
       " 'Однажды укушенный Once Bitten Марк Кендэлл',\n",
       " 'Всё в хорошем вкусе All in Good Taste Ральф',\n",
       " 'Под морем в 3D  Under the Sea 3D  рассказчик',\n",
       " 'В живом цвете In Living Color Различные роли',\n",
       " 'Саймон Бирч Simon Birch Взрослый Джо Вентеуорф',\n",
       " 'Тупой и ещё тупее Dumb & Dumber Ллойд Кристмас',\n",
       " 'Смертельный список  The Dead Pool Джонни Squares',\n",
       " 'Утиная фабрика  The Duck Factory  Скип Таркентон',\n",
       " 'Тупой и ещё тупее 2 Dumb & Dumber 2 Ллойд Кристмас',\n",
       " 'Офис  The Office  Парень из Пальцевых Озер (одна серия)',\n",
       " 'Пегги Сью вышла замуж Peggy Sue Got Married Уолтер Гетц',\n",
       " 'Бэтмен навсегда Batman Forever  Эдвард Нигма/Загадочник',\n",
       " 'Аферисты Дик и Джейн  Fun with Dick and Jane  Дик Харпер',\n",
       " 'Невероятный Бёрт Уандерстоун  Burt Wonderstone  Стив Грэй',\n",
       " 'Человек на Луне Man on the Moon Энди Кауфман/Тони Клифтон',\n",
       " 'Земные девушки легко доступны Earth Girls Are Easy  Уиплок',\n",
       " 'Пингвины мистера Поппера  Mr. Popper’s Penguins Том Поппер',\n",
       " 'Резиновое лицо  Rubberface (Introducting… Janet)  Тони Морони',\n",
       " 'Жизнь на Мэйпл-Драйв (ТВ) Doing Time on Maple Drive Тим Картер',\n",
       " 'Я люблю тебя, Филлип Моррис I Love You Phillip Morris Стив Рассел',\n",
       " 'Телеведущий 2 Anchorman: The Legend Continues ведущий Скотт Райлс',\n",
       " 'Крошечный паучок  Itsy Bitsy Spider Истребитель насекомых (голос)',\n",
       " 'Джим и Энди - великое запределье  Оригинальное название неизвестно',\n",
       " 'Рождественская история  A Christmas Carol Эбенезер Скрудж, призраки',\n",
       " 'Гринч — похититель Рождества  How the Grinch Stole Christmas  Гринч',\n",
       " 'Я, снова я и Ирэн Me, Myself and Irene  Офицер Чарли Бэйлигейтс/Хэнк',\n",
       " 'Эйс Вентура: Розыск домашних животных Ace Ventura: Pet Detective  Эйс Вентура',\n",
       " 'Эйс Вентура 2: Когда зовёт природа  Ace Ventura: When Nature Calls  Эйс Вентура',\n",
       " 'Вечное сияние чистого разума  Eternal Sunshine of the Spotless Mind Джоел Бэриш',\n",
       " 'Лемони Сникет: 33 несчастья Lemony Snicket’s A Series of Unfortunate Events Граф Олаф']"
      ]
     },
     "execution_count": 9,
     "metadata": {},
     "output_type": "execute_result"
    }
   ],
   "source": [
    "sorted(movies_cleaned, key=len)"
   ]
  },
  {
   "cell_type": "markdown",
   "metadata": {},
   "source": [
    "Блиц 1:\n",
    "\n",
    "1. Телефонный справочник. Создайте dict, в котором в ключах будут имена, а в значениях - телефонные номера. Преобразуйте его в json-файл с помощью функции json.dump"
   ]
  },
  {
   "cell_type": "code",
   "execution_count": 11,
   "metadata": {},
   "outputs": [],
   "source": [
    "import json"
   ]
  },
  {
   "cell_type": "code",
   "execution_count": 12,
   "metadata": {},
   "outputs": [],
   "source": [
    "with open('yellow_pages.json', 'w') as fp:\n",
    "    json.dump({'Igor': '+7123123123', 'Elena': '+8(123123)asdasdasd'}, fp)"
   ]
  },
  {
   "cell_type": "code",
   "execution_count": 14,
   "metadata": {},
   "outputs": [
    {
     "data": {
      "text/plain": [
       "'world'"
      ]
     },
     "execution_count": 14,
     "metadata": {},
     "output_type": "execute_result"
    }
   ],
   "source": [
    "with open('json_task1.json') as json_task1:\n",
    "    json_internals = json.load(json_task1)\n",
    "json_internals['key2'][0]['hello']"
   ]
  },
  {
   "cell_type": "code",
   "execution_count": 16,
   "metadata": {},
   "outputs": [],
   "source": [
    "with open('json_task2.json') as json_task2:\n",
    "    json_internals = json.load(json_task2)"
   ]
  },
  {
   "cell_type": "markdown",
   "metadata": {},
   "source": [
    "Блиц 2:\n",
    "\n",
    "1) Найдите ники на странички авторов статей, которые сейчас на главной страничке Medium:\n",
    "С помощью requests.get получите html https://medium.com/\n",
    "Разбейте полученный response.text на \"слова\" (по пробельным символам)\n",
    "Найдите такие \"слова\", в которых есть паттерн href=\"https://medium.com/@user_name\n",
    "Поместите всех @user_name в лист со списком авторов."
   ]
  },
  {
   "cell_type": "code",
   "execution_count": 19,
   "metadata": {},
   "outputs": [],
   "source": [
    "import requests"
   ]
  },
  {
   "cell_type": "code",
   "execution_count": 22,
   "metadata": {},
   "outputs": [
    {
     "name": "stdout",
     "output_type": "stream",
     "text": [
      "The slowest run took 6.42 times longer than the fastest. This could mean that an intermediate result is being cached.\n",
      "649 ms ± 537 ms per loop (mean ± std. dev. of 7 runs, 1 loop each)\n"
     ]
    }
   ],
   "source": [
    "%%timeit\n",
    "re.findall('href=\"https://medium.com/@([\\w]+)', \n",
    "           requests.get('https://medium.com/').text)"
   ]
  },
  {
   "cell_type": "code",
   "execution_count": null,
   "metadata": {},
   "outputs": [],
   "source": [
    "%%timeit\n",
    "\n",
    "pref = 'href=\"https://medium.com/@'\n",
    "\n",
    "for word in requests.get('https://medium.com/').text.split():\n",
    "    if word.startswith(pref):\n",
    "        word[len(pref):-1]"
   ]
  },
  {
   "cell_type": "markdown",
   "metadata": {},
   "source": [
    "2) Скачайте все картинки с главной images.yandex.ru:\n",
    "С помощью requests.get получите html главной странички https://images.yandex.ru\n",
    "Разбейте полученный response.text на \"слова\" (по пробельным символам)\n",
    "Найдите такие \"слова\", в которых есть паттерн src=\"https://avatars.mds.yandex.net/get-pdb/***********\"\n",
    "Обрежьте префикс src=\" и суффикс (все что после закрывающих кавычек)\n",
    "Скачайте каждую из https://************.jpg в папку yandex_images"
   ]
  },
  {
   "cell_type": "code",
   "execution_count": 26,
   "metadata": {},
   "outputs": [],
   "source": [
    "resp = requests.get('http://images.yandex.ru')\n",
    "for index, word in enumerate(resp.text.split()):\n",
    "    if word.startswith('src=\"https://avatars.mds.yandex.net/get-pdb/'):\n",
    "        word = word[len('src=\"'):]\n",
    "        img_url = word.split('\"')[0]\n",
    "        with open('123.png'.format(index), 'wb') as img_fp:\n",
    "            img_fp.write(requests.get(img_url).content)"
   ]
  },
  {
   "cell_type": "markdown",
   "metadata": {},
   "source": [
    "Блиц 3:\n",
    "\n",
    "1) На страничке https://www.instagram.com/explore/tags/hse/ есть как фото так и видео. Определите, какой тип контента собирает в среднем больше лайков?"
   ]
  },
  {
   "cell_type": "code",
   "execution_count": 27,
   "metadata": {},
   "outputs": [],
   "source": [
    "import requests"
   ]
  },
  {
   "cell_type": "code",
   "execution_count": 29,
   "metadata": {},
   "outputs": [],
   "source": [
    "response = requests.get(\n",
    "    'https://www.instagram.com/explore/tags/hse/?__a=1')\n",
    "hse_tag_json = response.json()"
   ]
  },
  {
   "cell_type": "code",
   "execution_count": 31,
   "metadata": {},
   "outputs": [
    {
     "data": {
      "text/plain": [
       "False"
      ]
     },
     "execution_count": 31,
     "metadata": {},
     "output_type": "execute_result"
    }
   ],
   "source": [
    "hse_tag_json['graphql']['hashtag']['edge_hashtag_to_media']['edges'][0]['node']['is_video']"
   ]
  },
  {
   "cell_type": "code",
   "execution_count": 33,
   "metadata": {},
   "outputs": [],
   "source": [
    "videos_count = 0\n",
    "videos_likes_count = 0\n",
    "photos_count = 0\n",
    "photos_likes_count = 0\n",
    "for node in hse_tag_json['graphql']['hashtag']['edge_hashtag_to_media']['edges']:\n",
    "    if node['node']['is_video']:\n",
    "        videos_count += 1\n",
    "        videos_likes_count += node['node']['edge_liked_by']['count']\n",
    "    else:\n",
    "        photos_count += 1\n",
    "        photos_likes_count += node['node']['edge_liked_by']['count']"
   ]
  },
  {
   "cell_type": "code",
   "execution_count": 34,
   "metadata": {},
   "outputs": [
    {
     "data": {
      "text/plain": [
       "(50.2, 29.464285714285715)"
      ]
     },
     "execution_count": 34,
     "metadata": {},
     "output_type": "execute_result"
    }
   ],
   "source": [
    "videos_likes_count / videos_count, photos_likes_count / photos_count"
   ]
  }
 ],
 "metadata": {
  "kernelspec": {
   "display_name": "Python 3",
   "language": "python",
   "name": "python3"
  },
  "language_info": {
   "codemirror_mode": {
    "name": "ipython",
    "version": 3
   },
   "file_extension": ".py",
   "mimetype": "text/x-python",
   "name": "python",
   "nbconvert_exporter": "python",
   "pygments_lexer": "ipython3",
   "version": "3.6.5"
  }
 },
 "nbformat": 4,
 "nbformat_minor": 2
}

{
 "cells": [
  {
   "cell_type": "code",
   "execution_count": 1,
   "metadata": {},
   "outputs": [
    {
     "data": {
      "text/plain": [
       "(40, 100, 14.142135623730951)"
      ]
     },
     "execution_count": 1,
     "metadata": {},
     "output_type": "execute_result"
    }
   ],
   "source": [
    "#1.2. (1 балл)\n",
    "#Вам на вход приходит длина стороны квадрата. \n",
    "#Верните tuple с тремя числами: периметр квадрата, площадь квадрата и диагональ квадрата.\n",
    "\n",
    "length = 10\n",
    "length * 4, length ** 2, length * 2 ** 0.5"
   ]
  },
  {
   "cell_type": "code",
   "execution_count": 5,
   "metadata": {},
   "outputs": [
    {
     "data": {
      "text/plain": [
       "(6, 5)"
      ]
     },
     "execution_count": 5,
     "metadata": {},
     "output_type": "execute_result"
    }
   ],
   "source": [
    "#1.3. (2 балла)\n",
    "#Есть переменные a и b. Реализуйте обмен значениями этих переменных. \n",
    "#Например для a = 5, b = 6 результатом будет a = 6, b = 5\n",
    "\n",
    "a = 5\n",
    "b = 6\n",
    "a, b = b, a\n",
    "a, b"
   ]
  },
  {
   "cell_type": "code",
   "execution_count": 7,
   "metadata": {},
   "outputs": [
    {
     "data": {
      "text/plain": [
       "15"
      ]
     },
     "execution_count": 7,
     "metadata": {},
     "output_type": "execute_result"
    }
   ],
   "source": [
    "#1.4. (2 балла)\n",
    "#Выведете сумму цифр трехзначного числа\n",
    "\n",
    "number = 456\n",
    "(number // 100) + (number // 10 % 10) + (number % 10)"
   ]
  },
  {
   "cell_type": "code",
   "execution_count": 9,
   "metadata": {},
   "outputs": [
    {
     "data": {
      "text/plain": [
       "True"
      ]
     },
     "execution_count": 9,
     "metadata": {},
     "output_type": "execute_result"
    }
   ],
   "source": [
    "#2.1 (1 балл)\n",
    "#Что больше: True или False?\n",
    "\n",
    "True > False"
   ]
  },
  {
   "cell_type": "code",
   "execution_count": 11,
   "metadata": {},
   "outputs": [
    {
     "data": {
      "text/plain": [
       "False"
      ]
     },
     "execution_count": 11,
     "metadata": {},
     "output_type": "execute_result"
    }
   ],
   "source": [
    "False > True"
   ]
  },
  {
   "cell_type": "code",
   "execution_count": 12,
   "metadata": {},
   "outputs": [],
   "source": [
    "#2.2 (0.25 балла за каждую)\n",
    "#Найдите максимальное количество операций, которые можно проводить с переменной типа None (операции могут быть бинарными)"
   ]
  },
  {
   "cell_type": "code",
   "execution_count": 14,
   "metadata": {},
   "outputs": [
    {
     "data": {
      "text/plain": [
       "True"
      ]
     },
     "execution_count": 14,
     "metadata": {},
     "output_type": "execute_result"
    }
   ],
   "source": [
    "None is None"
   ]
  },
  {
   "cell_type": "code",
   "execution_count": 16,
   "metadata": {},
   "outputs": [
    {
     "data": {
      "text/plain": [
       "True"
      ]
     },
     "execution_count": 16,
     "metadata": {},
     "output_type": "execute_result"
    }
   ],
   "source": [
    "None == None"
   ]
  },
  {
   "cell_type": "code",
   "execution_count": 17,
   "metadata": {},
   "outputs": [
    {
     "data": {
      "text/plain": [
       "False"
      ]
     },
     "execution_count": 17,
     "metadata": {},
     "output_type": "execute_result"
    }
   ],
   "source": [
    "None != None"
   ]
  },
  {
   "cell_type": "code",
   "execution_count": 18,
   "metadata": {},
   "outputs": [
    {
     "data": {
      "text/plain": [
       "True"
      ]
     },
     "execution_count": 18,
     "metadata": {},
     "output_type": "execute_result"
    }
   ],
   "source": [
    "not None"
   ]
  },
  {
   "cell_type": "code",
   "execution_count": 19,
   "metadata": {},
   "outputs": [],
   "source": [
    "None and None"
   ]
  },
  {
   "cell_type": "code",
   "execution_count": 21,
   "metadata": {},
   "outputs": [],
   "source": [
    "None or None"
   ]
  },
  {
   "cell_type": "code",
   "execution_count": 23,
   "metadata": {},
   "outputs": [
    {
     "data": {
      "text/plain": [
       "False"
      ]
     },
     "execution_count": 23,
     "metadata": {},
     "output_type": "execute_result"
    }
   ],
   "source": [
    "#2.3 (2 балла)\n",
    "#Для двух логических переменных a и b напишите выражение, реализующее логический оператор XOR.\n",
    "#Он работает так:\n",
    "#True XOR True = False\n",
    "#True XOR False = True\n",
    "#False XOR True = True\n",
    "#False XOR False = False\n",
    "\n",
    "(not (a and b)) and (a or b)"
   ]
  },
  {
   "cell_type": "code",
   "execution_count": 24,
   "metadata": {},
   "outputs": [
    {
     "data": {
      "text/plain": [
       "True"
      ]
     },
     "execution_count": 24,
     "metadata": {},
     "output_type": "execute_result"
    }
   ],
   "source": [
    "#2.4 (2 балла)\n",
    "#Вам на вход приходит год (например, 2025). Определите, високосный ли он?\n",
    "\n",
    "#год, номер которого кратен 400, — високосный;\n",
    "#остальные годы, номер которых кратен 100, — невисокосные;\n",
    "#остальные годы, номер которых кратен 4, — високосные.\n",
    "\n",
    "\n",
    "year = 2000\n",
    "(year % 400 == 0) or (year % 4 == 0 and year % 100 != 0)"
   ]
  },
  {
   "cell_type": "code",
   "execution_count": 26,
   "metadata": {},
   "outputs": [
    {
     "name": "stdout",
     "output_type": "stream",
     "text": [
      "[True, False, 42]\n",
      "{False, True, 42}\n",
      "(True, False, 42)\n"
     ]
    }
   ],
   "source": [
    "#3.1 (1 балл)\n",
    "#Создайте пустой список (list) и наполните его элементами True, None, 42\n",
    "#Создайте пустое множество (set) и наполните его элементами True, None, 42\n",
    "#Создайте пустой кортеж (tuplу) и наполните его элементами True, None, 42\n",
    "\n",
    "my_list = []\n",
    "my_list.append(True)\n",
    "my_list.append(False)\n",
    "my_list.append(42)\n",
    "print(my_list)\n",
    "\n",
    "my_set = set()\n",
    "my_set.add(True)\n",
    "my_set.add(False)\n",
    "my_set.add(42)\n",
    "print(my_set)\n",
    "\n",
    "my_tuple = (True, False, 42)\n",
    "print(my_tuple)"
   ]
  },
  {
   "cell_type": "code",
   "execution_count": 28,
   "metadata": {},
   "outputs": [
    {
     "data": {
      "text/plain": [
       "100368"
      ]
     },
     "execution_count": 28,
     "metadata": {},
     "output_type": "execute_result"
    }
   ],
   "source": [
    "#3.2 (1 балл)\n",
    "#Создайте список из 4-х элемернтов. Перемножьте 0-й, 2-й и 3-й элементы\n",
    "\n",
    "my_list = [123, 523, 34, 24]\n",
    "my_list[0] * my_list[2] * my_list[3]"
   ]
  },
  {
   "cell_type": "code",
   "execution_count": 30,
   "metadata": {},
   "outputs": [
    {
     "data": {
      "text/plain": [
       "True"
      ]
     },
     "execution_count": 30,
     "metadata": {},
     "output_type": "execute_result"
    }
   ],
   "source": [
    "#3.3 (3 балла)¶\n",
    "#Расположите строчки от меньшей к большей (с т.з. оператора < ):\n",
    "'abz'\n",
    "'aabz'\n",
    "'Abz'\n",
    "'0.123'\n",
    "'00.123'\n",
    "'-0.123'\n",
    "'0123'\n",
    "''\n",
    "'' < '-0.123' < '0.123' < '00.123' < '0123' < 'Abz' < 'aabz' < 'abz'"
   ]
  },
  {
   "cell_type": "code",
   "execution_count": 31,
   "metadata": {},
   "outputs": [
    {
     "data": {
      "text/plain": [
       "2593.7424601000025"
      ]
     },
     "execution_count": 31,
     "metadata": {},
     "output_type": "execute_result"
    }
   ],
   "source": [
    "#3.4 (3 балла)\n",
    "#Рассчитайте, сколько окажетеся денег на счету у клиента банка, если он положил x рублей на n лет под 10% годовых.\n",
    "#Процены прибавляются к сумме вклада ежегодно\n",
    "\n",
    "# формула сложного процента: SUM = X * (1 + %)^n\n",
    "\n",
    "x = 1000  # сколько рублей положил\n",
    "n = 10  # сколько лет\n",
    "relative_annual_benefit = 0.1  # 10% годовых\n",
    "\n",
    "result_sum = x * (1 + relative_annual_benefit) ** n\n",
    "result_sum"
   ]
  }
 ],
 "metadata": {
  "kernelspec": {
   "display_name": "Python 3",
   "language": "python",
   "name": "python3"
  },
  "language_info": {
   "codemirror_mode": {
    "name": "ipython",
    "version": 3
   },
   "file_extension": ".py",
   "mimetype": "text/x-python",
   "name": "python",
   "nbconvert_exporter": "python",
   "pygments_lexer": "ipython3",
   "version": "3.6.5"
  }
 },
 "nbformat": 4,
 "nbformat_minor": 2
}

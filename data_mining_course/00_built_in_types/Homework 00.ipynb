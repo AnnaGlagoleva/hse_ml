{
 "cells": [
  {
   "cell_type": "code",
   "execution_count": 2,
   "metadata": {},
   "outputs": [
    {
     "data": {
      "text/plain": [
       "'07:30'"
      ]
     },
     "execution_count": 2,
     "metadata": {},
     "output_type": "execute_result"
    }
   ],
   "source": [
    "#1. (2 балла)\n",
    "#На вход вам приходит вещественное число, обозначающее время, которое необходимо потратить на задачу (создайте для этого переменную duration). \n",
    "#Выведите, сколько времени уйдет, чтобы выполнить 3 такие задачи. \n",
    "#Ввод: вещественное число, которое обозначает количество часов (нецелое, например 1.5 -значит 1 час и 0.5 часа, то есть 30 минут). Число часов точно меньше 24. \n",
    "#Вывод: h:mm (часы:минуты).\n",
    "\n",
    "import time\n",
    "duration = 2.5\n",
    "times = 3\n",
    "total = duration * times * 3600\n",
    "time.strftime('%H:%M', time.gmtime(total))\n"
   ]
  },
  {
   "cell_type": "code",
   "execution_count": 3,
   "metadata": {},
   "outputs": [
    {
     "data": {
      "text/plain": [
       "'hellworldhellworldhellworldhellworldhellworldhellworldhellworldhellworld'"
      ]
     },
     "execution_count": 3,
     "metadata": {},
     "output_type": "execute_result"
    }
   ],
   "source": [
    "#2. (2 балла)\n",
    "#Для двух строк l1 и l2, а так же числа n вывести строчку l3, состоящую из конкатенации l1 и l2, повторенной n раз.\n",
    "#Например, для l1='hello', l2='world', n=2, l3 будет равно 'helloworldhelloworld'\n",
    "\n",
    "l1 = 'hell'\n",
    "l2 = 'world'\n",
    "n = 8\n",
    "l3 = (l1+l2)*n\n",
    "l3"
   ]
  },
  {
   "cell_type": "code",
   "execution_count": 22,
   "metadata": {},
   "outputs": [
    {
     "data": {
      "text/plain": [
       "'01:11:06'"
      ]
     },
     "execution_count": 22,
     "metadata": {},
     "output_type": "execute_result"
    }
   ],
   "source": [
    "#3. (2 балла)\n",
    "#Электронные часы показывают время в формате hh:mm:ss, то есть сначала записывается обязательно двузначное количество часов, \n",
    "#потом обязательно двузначное количество минут, затем обязательно двузначное количество секунд.\n",
    "\n",
    "#С начала суток прошло N секунд. Выведите, что покажут часы. В N точно меньше 24 часов.\n",
    "\n",
    "import time\n",
    "N = 666666666\n",
    "time.strftime('%H:%M:%S', time.gmtime(N))"
   ]
  },
  {
   "cell_type": "code",
   "execution_count": 17,
   "metadata": {},
   "outputs": [
    {
     "data": {
      "text/plain": [
       "377"
      ]
     },
     "execution_count": 17,
     "metadata": {},
     "output_type": "execute_result"
    }
   ],
   "source": [
    "\n",
    "\n",
    "import math; \n",
    "k = math.sqrt(5) \n",
    "n = 14\n",
    "fib = round(1 / k * ((1 + k) / 2) ** n - ((1 - k) / 2) ** n)\n",
    "fib"
   ]
  },
  {
   "cell_type": "code",
   "execution_count": 18,
   "metadata": {},
   "outputs": [
    {
     "data": {
      "text/plain": [
       "[55, 89, 144, 233]"
      ]
     },
     "execution_count": 18,
     "metadata": {},
     "output_type": "execute_result"
    }
   ],
   "source": [
    "def fib(n):\n",
    "    x, y = 0, 1\n",
    "    for _ in range(1, n):\n",
    "        x, y = y, x + y\n",
    "    return y\n",
    "a = 10\n",
    "b = 14\n",
    "[fib(i) for i in range(a, b)]"
   ]
  },
  {
   "cell_type": "code",
   "execution_count": 21,
   "metadata": {},
   "outputs": [
    {
     "data": {
      "text/plain": [
       "21"
      ]
     },
     "execution_count": 21,
     "metadata": {},
     "output_type": "execute_result"
    }
   ],
   "source": [
    "fib = lambda n: n if n < 2 else fib(n-1) + fib(n-2)\n",
    "fib(8)"
   ]
  },
  {
   "cell_type": "code",
   "execution_count": null,
   "metadata": {},
   "outputs": [],
   "source": [
    "import numpy\n",
    "\n",
    "def mm_fib(n):\n",
    "    return (numpy.matrix([[2,1],[1,1]])**(n//2))[0,(n+1)%2]\n",
    "a = 10\n",
    "b = 14\n",
    "[mm_fib(i) for i in range(a,b)]"
   ]
  }
 ],
 "metadata": {
  "kernelspec": {
   "display_name": "Python 3",
   "language": "python",
   "name": "python3"
  },
  "language_info": {
   "codemirror_mode": {
    "name": "ipython",
    "version": 3
   },
   "file_extension": ".py",
   "mimetype": "text/x-python",
   "name": "python",
   "nbconvert_exporter": "python",
   "pygments_lexer": "ipython3",
   "version": "3.6.5"
  }
 },
 "nbformat": 4,
 "nbformat_minor": 2
}

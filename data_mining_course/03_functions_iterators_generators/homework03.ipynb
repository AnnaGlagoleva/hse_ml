{
 "cells": [
  {
   "cell_type": "code",
   "execution_count": null,
   "metadata": {},
   "outputs": [],
   "source": []
  },
  {
   "cell_type": "markdown",
   "metadata": {
    "ExecuteTime": {
     "end_time": "2018-10-05T22:34:23.949326Z",
     "start_time": "2018-10-05T22:34:23.939184Z"
    }
   },
   "source": [
    "## 1 (1 балла)\n",
    "Напишите функцию calc_factorial, которая вычисляет факториал для любого неотрицательного целого числа."
   ]
  },
  {
   "cell_type": "code",
   "execution_count": null,
   "metadata": {},
   "outputs": [],
   "source": []
  },
  {
   "cell_type": "code",
   "execution_count": 2,
   "metadata": {
    "ExecuteTime": {
     "end_time": "2018-10-05T23:11:02.932701Z",
     "start_time": "2018-10-05T23:11:02.925377Z"
    }
   },
   "outputs": [],
   "source": [
    "def calc_factorial(n):\n",
    "    factorial = 1\n",
    "    for n in range(1, n + 1):\n",
    "        factorial *= n\n",
    "    return factorial"
   ]
  },
  {
   "cell_type": "code",
   "execution_count": 3,
   "metadata": {},
   "outputs": [
    {
     "data": {
      "text/plain": [
       "720"
      ]
     },
     "execution_count": 3,
     "metadata": {},
     "output_type": "execute_result"
    }
   ],
   "source": [
    "calc_factorial(6)"
   ]
  },
  {
   "cell_type": "markdown",
   "metadata": {},
   "source": [
    "## 2 (1 балл)\n",
    "Напишите функцию для нахождения максимума из 3-х аргументов. Не пользуйтесь втроенными функциям Питона"
   ]
  },
  {
   "cell_type": "code",
   "execution_count": null,
   "metadata": {},
   "outputs": [],
   "source": []
  },
  {
   "cell_type": "code",
   "execution_count": 4,
   "metadata": {
    "ExecuteTime": {
     "end_time": "2018-10-05T22:56:00.621067Z",
     "start_time": "2018-10-05T22:56:00.612381Z"
    }
   },
   "outputs": [],
   "source": [
    "# первый вариант:\n",
    "def get_max_of_three(arg1, arg2, arg3):\n",
    "    if arg1 > arg2:\n",
    "        if arg3 > arg1:\n",
    "            return arg3\n",
    "        else:\n",
    "            return arg1\n",
    "    if arg3 > arg2:\n",
    "            return arg3\n",
    "    else:\n",
    "        return arg2"
   ]
  },
  {
   "cell_type": "code",
   "execution_count": 8,
   "metadata": {},
   "outputs": [
    {
     "data": {
      "text/plain": [
       "3456"
      ]
     },
     "execution_count": 8,
     "metadata": {},
     "output_type": "execute_result"
    }
   ],
   "source": [
    "get_max_of_three(3456, 456, 765)"
   ]
  },
  {
   "cell_type": "code",
   "execution_count": 5,
   "metadata": {
    "ExecuteTime": {
     "end_time": "2018-10-05T22:57:15.116182Z",
     "start_time": "2018-10-05T22:57:15.107912Z"
    }
   },
   "outputs": [],
   "source": [
    "# второй вариант:\n",
    "def get_max_of_three(arg1, arg2, arg3):\n",
    "    if arg1 > arg2:\n",
    "        return arg3 if arg3 > arg1 else arg1\n",
    "    return arg3 if arg3 > arg2 else arg2"
   ]
  },
  {
   "cell_type": "code",
   "execution_count": 9,
   "metadata": {},
   "outputs": [
    {
     "data": {
      "text/plain": [
       "787"
      ]
     },
     "execution_count": 9,
     "metadata": {},
     "output_type": "execute_result"
    }
   ],
   "source": [
    "get_max_of_three(454,256,787)"
   ]
  },
  {
   "cell_type": "code",
   "execution_count": 6,
   "metadata": {
    "ExecuteTime": {
     "end_time": "2018-10-05T22:58:35.331143Z",
     "start_time": "2018-10-05T22:58:35.321471Z"
    }
   },
   "outputs": [],
   "source": [
    "#  третий вариант:\n",
    "def get_max_of_three(arg1, arg2, arg3):\n",
    "    maximum = arg1\n",
    "    if arg2 > maximum:\n",
    "        maximum = arg2\n",
    "    if arg3 > maximum:\n",
    "        maximum = arg3\n",
    "    return maximum"
   ]
  },
  {
   "cell_type": "code",
   "execution_count": 10,
   "metadata": {},
   "outputs": [
    {
     "data": {
      "text/plain": [
       "7"
      ]
     },
     "execution_count": 10,
     "metadata": {},
     "output_type": "execute_result"
    }
   ],
   "source": [
    "get_max_of_three(7, 2, 4)"
   ]
  },
  {
   "cell_type": "markdown",
   "metadata": {},
   "source": [
    "## 3 (3 балла)\n",
    "Напишите функцию get_factorial_generator, создающую генератор для вывода последовательности из факториалов целых чисел. \n",
    "Дополните уже существующий код:"
   ]
  },
  {
   "cell_type": "code",
   "execution_count": 15,
   "metadata": {},
   "outputs": [
    {
     "data": {
      "text/plain": [
       "'def get_factorial_generator():\\n    # Ваш код здесь\\n    \\nfactorial_generator = get_factorial_generator()\\nprint(next(factorial_generator))  # печатает 1\\nprint(next(factorial_generator))  # печатает 1\\nprint(next(factorial_generator))  # печатает 2\\nprint(next(factorial_generator))  # печатает 6\\nprint(next(factorial_generator))  # печатает 24'"
      ]
     },
     "execution_count": 15,
     "metadata": {},
     "output_type": "execute_result"
    }
   ],
   "source": [
    "\"\"\"def get_factorial_generator():\n",
    "    # Ваш код здесь\n",
    "    \n",
    "factorial_generator = get_factorial_generator()\n",
    "print(next(factorial_generator))  # печатает 1\n",
    "print(next(factorial_generator))  # печатает 1\n",
    "print(next(factorial_generator))  # печатает 2\n",
    "print(next(factorial_generator))  # печатает 6\n",
    "print(next(factorial_generator))  # печатает 24\"\"\""
   ]
  },
  {
   "cell_type": "code",
   "execution_count": null,
   "metadata": {},
   "outputs": [],
   "source": []
  },
  {
   "cell_type": "markdown",
   "metadata": {
    "ExecuteTime": {
     "end_time": "2018-10-05T22:48:57.851870Z",
     "start_time": "2018-10-05T22:48:57.842808Z"
    }
   },
   "source": [
    "PS: избегайте полного вычисления факториала на каждой итерации"
   ]
  },
  {
   "cell_type": "code",
   "execution_count": null,
   "metadata": {},
   "outputs": [],
   "source": []
  },
  {
   "cell_type": "code",
   "execution_count": 12,
   "metadata": {
    "ExecuteTime": {
     "end_time": "2018-10-05T22:50:57.932364Z",
     "start_time": "2018-10-05T22:50:57.917388Z"
    }
   },
   "outputs": [
    {
     "name": "stdout",
     "output_type": "stream",
     "text": [
      "1\n",
      "1\n",
      "2\n",
      "6\n",
      "24\n"
     ]
    }
   ],
   "source": [
    "def get_factorial_generator():\n",
    "    yield 1\n",
    "    factorial = 1\n",
    "    base = 0\n",
    "    while True:\n",
    "        base += 1\n",
    "        factorial *= base\n",
    "        yield factorial\n",
    "    \n",
    "factorial_generator = get_factorial_generator()\n",
    "print(next(factorial_generator))  # печатает 1\n",
    "print(next(factorial_generator))  # печатает 1\n",
    "print(next(factorial_generator))  # печатает 2\n",
    "print(next(factorial_generator))  # печатает 6\n",
    "print(next(factorial_generator))  # печатает 24"
   ]
  },
  {
   "cell_type": "code",
   "execution_count": null,
   "metadata": {},
   "outputs": [],
   "source": []
  },
  {
   "cell_type": "markdown",
   "metadata": {},
   "source": [
    "## 4 (2 + 1балла)\n",
    "\n",
    "4.1 Используя функцию calc_factorial из первого задания, напишите list comprehension, который из списка чисел получает список факториалов. \n",
    "\n",
    "Пример:\n",
    "\n",
    "[1, 5, 20, 3, 7] -> [1, 120, 2432902008176640000, 6, 5040]\n",
    "\n",
    "4.2 Не изменяя список, модифицируйте list comprehension, чтобы он пропускал числа больше 30:\n",
    "Пример:\n",
    "\n",
    "[1, 5, 20, 31, 3, 7] -> [1, 120, 2432902008176640000, 6, 5040]"
   ]
  },
  {
   "cell_type": "code",
   "execution_count": null,
   "metadata": {},
   "outputs": [],
   "source": []
  },
  {
   "cell_type": "code",
   "execution_count": 73,
   "metadata": {
    "ExecuteTime": {
     "end_time": "2018-10-05T23:14:47.408932Z",
     "start_time": "2018-10-05T23:14:47.397014Z"
    }
   },
   "outputs": [
    {
     "data": {
      "text/plain": [
       "[1, 120, 2432902008176640000, 6, 5040]"
      ]
     },
     "execution_count": 73,
     "metadata": {},
     "output_type": "execute_result"
    }
   ],
   "source": [
    "[calc_factorial(n) for n in [1, 5, 20, 3, 7 ]]"
   ]
  },
  {
   "cell_type": "code",
   "execution_count": 74,
   "metadata": {
    "ExecuteTime": {
     "end_time": "2018-10-05T23:17:00.060348Z",
     "start_time": "2018-10-05T23:17:00.052932Z"
    }
   },
   "outputs": [
    {
     "data": {
      "text/plain": [
       "[1, 120, 2432902008176640000, 6, 5040]"
      ]
     },
     "execution_count": 74,
     "metadata": {},
     "output_type": "execute_result"
    }
   ],
   "source": [
    "[calc_factorial(n)  for n in [1, 5, 20, 3, 7, 31] if n <= 30]"
   ]
  },
  {
   "cell_type": "markdown",
   "metadata": {
    "ExecuteTime": {
     "end_time": "2018-10-05T22:08:21.522850Z",
     "start_time": "2018-10-05T22:08:21.514264Z"
    }
   },
   "source": [
    "## 5 (3 балла) \n",
    "\n",
    "Функция open(file_name) имеет опциональный аргумент encoding, в который можно передать строкой название кодировки, в которой стоит открыть файл. Большинство файлов в интернете закодированно в 'utf8', но Windows для файлов, в которых содержится кириллица, использует кодировку 'windows-1251'.\n",
    "\n",
    "\n",
    "Скачайте файлы со стрихотворением Пушкина в разных кодировках: https://raw.githubusercontent.com/SlinkoIgor/data_mining_course2/master/03_functions_iterators_generators/Onegin_utf8.txt\n",
    "и https://raw.githubusercontent.com/SlinkoIgor/data_mining_course2/master/03_functions_iterators_generators/Onegin_windows1251.txt\n",
    "\n",
    "(скачивать нужно не копируя текст, а файл целиком. Это можно сделать, нажав правой кнопкой на страницу -> сохранить страницу)\n",
    "\n",
    "Откройте каждый из файлов в питоне, воспользовавшишь функций open(file_name, encoding='utf8') либо open(file_name, encoding='windows-1251') соответственно. Сделайте read и удостоверьтесь, что содержимое файлов полностью совпадает."
   ]
  },
  {
   "cell_type": "code",
   "execution_count": null,
   "metadata": {},
   "outputs": [],
   "source": []
  },
  {
   "cell_type": "code",
   "execution_count": 4,
   "metadata": {
    "ExecuteTime": {
     "end_time": "2018-10-05T22:26:41.586021Z",
     "start_time": "2018-10-05T22:26:41.570774Z"
    }
   },
   "outputs": [
    {
     "name": "stdout",
     "output_type": "stream",
     "text": [
      "True\n"
     ]
    }
   ],
   "source": [
    "with open('Onegin_utf8 2.txt', encoding='utf8') as fp_utf8, \\\n",
    "    open('Onegin_windows1251 2.txt', encoding='windows-1251') as fp_windows1251:\n",
    "        print(fp_utf8.read() == fp_windows1251.read())"
   ]
  }
 ],
 "metadata": {
  "kernelspec": {
   "display_name": "Python 3",
   "language": "python",
   "name": "python3"
  },
  "language_info": {
   "codemirror_mode": {
    "name": "ipython",
    "version": 3
   },
   "file_extension": ".py",
   "mimetype": "text/x-python",
   "name": "python",
   "nbconvert_exporter": "python",
   "pygments_lexer": "ipython3",
   "version": "3.6.5"
  }
 },
 "nbformat": 4,
 "nbformat_minor": 2
}

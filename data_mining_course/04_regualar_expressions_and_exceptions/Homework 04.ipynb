{
 "cells": [
  {
   "cell_type": "markdown",
   "metadata": {},
   "source": [
    "1. Переведите строку в дату, используя datetime: 2018-08-14T19:00:55Z"
   ]
  },
  {
   "cell_type": "code",
   "execution_count": 2,
   "metadata": {},
   "outputs": [
    {
     "data": {
      "text/plain": [
       "datetime.datetime(2018, 8, 14, 19, 0, 55)"
      ]
     },
     "execution_count": 2,
     "metadata": {},
     "output_type": "execute_result"
    }
   ],
   "source": [
    "import datetime\n",
    "\n",
    "date = '2018-08-14T19:00:55Z'\n",
    "datetime.datetime.strptime(date, '%Y-%m-%dT%H:%M:%SZ')"
   ]
  },
  {
   "cell_type": "markdown",
   "metadata": {},
   "source": [
    "2. Напишите функцию, которая показывает, какой день недели будет через 20 дней."
   ]
  },
  {
   "cell_type": "code",
   "execution_count": 4,
   "metadata": {},
   "outputs": [
    {
     "name": "stdout",
     "output_type": "stream",
     "text": [
      "(datetime.datetime(2019, 1, 23, 16, 3, 48, 336130), 'Tuesday')\n"
     ]
    }
   ],
   "source": [
    "def weekday20():\n",
    "    weekdays = ['Monday', 'Tuesday', 'Wednesday', \n",
    "                'Thursday', 'Friday', 'Saturday', 'Sunday']\n",
    "    today = datetime.datetime.today()\n",
    "    day20 = (today + datetime.timedelta(20)).weekday()\n",
    "    return today, weekdays[day20]\n",
    "\n",
    "print(weekday20())"
   ]
  },
  {
   "cell_type": "markdown",
   "metadata": {},
   "source": [
    "3. Напишите функцию, которая по введенному радиусу возвращает площадь поверхности шара и его объем. Площадь поверхности = 4*pi*r**2, объем = 4/3*pi*r**3. Число pi можно найти в модуле math."
   ]
  },
  {
   "cell_type": "code",
   "execution_count": 5,
   "metadata": {},
   "outputs": [
    {
     "name": "stdout",
     "output_type": "stream",
     "text": [
      "Radius of sphere: 5\n",
      "Surface Area is:  314.1592653589793\n",
      "Volume is:  523.5987755982987\n"
     ]
    }
   ],
   "source": [
    "import math\n",
    "pi=math.pi\n",
    "radian = float(input('Radius of sphere: '))\n",
    "sur_area = 4 * pi * radian **2\n",
    "volume = (4/3) * (pi * radian ** 3)\n",
    "print(\"Surface Area is: \", sur_area)\n",
    "print(\"Volume is: \", volume)"
   ]
  },
  {
   "cell_type": "markdown",
   "metadata": {},
   "source": [
    "4. Найти в строке все пароли и вывести их (только численную часть). Пароли только числовые, идут после выражения password:. Просто числа паролем не являются."
   ]
  },
  {
   "cell_type": "code",
   "execution_count": 12,
   "metadata": {},
   "outputs": [],
   "source": [
    "import re"
   ]
  },
  {
   "cell_type": "code",
   "execution_count": 15,
   "metadata": {},
   "outputs": [
    {
     "name": "stdout",
     "output_type": "stream",
     "text": [
      "Поиск фраз с помощью re: password:([\\d]+)\n",
      "['12345', '23456']\n"
     ]
    }
   ],
   "source": [
    "import re\n",
    "\n",
    "string = 'kasdjvb password:12345 hdhvbpassword:23456, 3534726, password123 fhbfvw'\n",
    "\n",
    "def multi_re_find(patterns, phrase):\n",
    "    '''\n",
    "    Принимает список regex patterns\n",
    "    Выводит список всех матчей\n",
    "    '''\n",
    "    for pattern in patterns:\n",
    "        print('Поиск фраз с помощью re: {}'.format(pattern))\n",
    "        print(re.findall(pattern, phrase))\n",
    "        \n",
    "multi_re_find(['password:([\\d]+)'], string)"
   ]
  },
  {
   "cell_type": "markdown",
   "metadata": {},
   "source": [
    "5. Написать выражение, которое ищет в тексте номера телефонов с таким паттерном: tel = '+7(917)12-345-67'"
   ]
  },
  {
   "cell_type": "code",
   "execution_count": 17,
   "metadata": {},
   "outputs": [
    {
     "data": {
      "text/plain": [
       "['+7(917)12-345-67', '+7(495)36-558-47']"
      ]
     },
     "execution_count": 17,
     "metadata": {},
     "output_type": "execute_result"
    }
   ],
   "source": [
    "tel = 'My number is +7(917)12-345-67 or +7(495)36-558-47. Call me!'\n",
    "\n",
    "re.findall(\"\\+7\\([\\d]{3}\\)[\\d]{2}-[\\d]{3}-[\\d]{2}\", tel)"
   ]
  },
  {
   "cell_type": "markdown",
   "metadata": {},
   "source": [
    "6. Вам на вход подается список пар чисел. Проверить, в скольких парах первое число делится на второе без ошибки. Вывести эти пары и их количество."
   ]
  },
  {
   "cell_type": "code",
   "execution_count": 18,
   "metadata": {},
   "outputs": [
    {
     "name": "stdout",
     "output_type": "stream",
     "text": [
      "Devision can't be done (4, 0)\n",
      "There are 2 good pairs: [(2, 3), (9, 3)]\n"
     ]
    }
   ],
   "source": [
    "pairs = [(2, 3), (4, 0), (9, 3)] \n",
    "\n",
    "n = 0\n",
    "good = []\n",
    "for pair in pairs:\n",
    "    try:\n",
    "        pair[0]/pair[1]\n",
    "        n += 1\n",
    "        good.append(pair)\n",
    "    except:\n",
    "        print('Devision can\\'t be done {}'.format(pair))\n",
    "print('There are {} good pairs: {}'.format(n, good))"
   ]
  }
 ],
 "metadata": {
  "kernelspec": {
   "display_name": "Python 3",
   "language": "python",
   "name": "python3"
  },
  "language_info": {
   "codemirror_mode": {
    "name": "ipython",
    "version": 3
   },
   "file_extension": ".py",
   "mimetype": "text/x-python",
   "name": "python",
   "nbconvert_exporter": "python",
   "pygments_lexer": "ipython3",
   "version": "3.6.5"
  }
 },
 "nbformat": 4,
 "nbformat_minor": 2
}

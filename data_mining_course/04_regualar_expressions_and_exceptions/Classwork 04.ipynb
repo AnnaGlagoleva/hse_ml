{
 "cells": [
  {
   "cell_type": "markdown",
   "metadata": {},
   "source": [
    "Блиц 1\n",
    "\n",
    "1. Перепишите код с помощью try/except так, чтобы ошибка не выводилась."
   ]
  },
  {
   "cell_type": "code",
   "execution_count": 2,
   "metadata": {},
   "outputs": [],
   "source": [
    "try:\n",
    "    for i in ['a','b','c']:\n",
    "        print(i**5)\n",
    "except:\n",
    "    pass"
   ]
  },
  {
   "cell_type": "markdown",
   "metadata": {},
   "source": [
    "2. Перепишите код с помощью try/except/finally так, чтобы не выводилась ошибка. Используйте специальный exception, который подсказывает ошибка. В конце выведите: \"Дело сделано!\""
   ]
  },
  {
   "cell_type": "code",
   "execution_count": 4,
   "metadata": {},
   "outputs": [
    {
     "name": "stdout",
     "output_type": "stream",
     "text": [
      "Дело сделано!\n"
     ]
    }
   ],
   "source": [
    "x = 42\n",
    "y = 0\n",
    "try:\n",
    "    z = x/y\n",
    "except ZeroDivisionError:\n",
    "    pass\n",
    "finally:\n",
    "    print('Дело сделано!')\n",
    "    "
   ]
  },
  {
   "cell_type": "markdown",
   "metadata": {},
   "source": [
    "3. Напишите функцию, которая спрашивает целое число, пока оно не будет введено, и выводит его квадрат. Используйте while/try/except/else."
   ]
  },
  {
   "cell_type": "code",
   "execution_count": null,
   "metadata": {},
   "outputs": [],
   "source": [
    "def askint():\n",
    "    while True:\n",
    "        try:\n",
    "            print('Введите целое число.')\n",
    "            val = int(input())\n",
    "        except:\n",
    "            print('Это не целое число.')\n",
    "        else:\n",
    "            print('Квадрат введенного целого числа: ', val ** 2)\n",
    "            break"
   ]
  },
  {
   "cell_type": "code",
   "execution_count": null,
   "metadata": {},
   "outputs": [],
   "source": [
    "askint()"
   ]
  },
  {
   "cell_type": "markdown",
   "metadata": {},
   "source": [
    "Блиц 2\n",
    "\n",
    "1. С помощью Counter отсортируйте словарь по значению. Пример: {'Pie': 15, 'Chokobar': 10, 'Cake': 20} -> {'Cake': 20, 'Pie': 15, 'Chokobar': 10}"
   ]
  },
  {
   "cell_type": "code",
   "execution_count": null,
   "metadata": {},
   "outputs": [],
   "source": [
    "from collections import Counter\n",
    "x = Counter({'Pie': 15, 'Chokobar': 10, 'Cake': 20})\n",
    "print(x.most_common())"
   ]
  },
  {
   "cell_type": "markdown",
   "metadata": {},
   "source": [
    "2.На вход подается словарь, создать другой словарь, где элементы первого будут в отсортированном по ключу порядке. Пример: {'Pie': 15, 'Chokobar': 10, 'Cake': 20} -> {'Cake': 20, 'Chokobar': 10, 'Pie': 15}"
   ]
  },
  {
   "cell_type": "code",
   "execution_count": null,
   "metadata": {},
   "outputs": [],
   "source": [
    "from collections import OrderedDict\n",
    "a = {'Pie': 15, 'Chokobar': 10, 'Cake': 20}\n",
    "new_dict = OrderedDict(sorted(a.items()))\n",
    "for key in new_dict:\n",
    "    print (key, new_dict[key])"
   ]
  },
  {
   "cell_type": "code",
   "execution_count": null,
   "metadata": {},
   "outputs": [],
   "source": []
  }
 ],
 "metadata": {
  "kernelspec": {
   "display_name": "Python 3",
   "language": "python",
   "name": "python3"
  },
  "language_info": {
   "codemirror_mode": {
    "name": "ipython",
    "version": 3
   },
   "file_extension": ".py",
   "mimetype": "text/x-python",
   "name": "python",
   "nbconvert_exporter": "python",
   "pygments_lexer": "ipython3",
   "version": "3.6.5"
  }
 },
 "nbformat": 4,
 "nbformat_minor": 2
}

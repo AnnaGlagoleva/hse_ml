{
 "cells": [
  {
   "cell_type": "markdown",
   "metadata": {},
   "source": [
    "Блиц 1\n",
    "\n",
    "\n",
    "1. На вход подается строка с каким-то количеством цифр на конце. Вам необходимо вывести только буквенную часть строки, используя встроенные строковые методы и циклы.\n",
    "\n",
    "2. На вход подается строка и подстрока. Проверить, что подстрока присутствует в строке и вывести индекс первого вхождения.\n",
    "\n",
    "3. На вход подается строка и подстрока. Найти все вхождения подстроки в строку и вывести количество таких вхождений."
   ]
  },
  {
   "cell_type": "code",
   "execution_count": 23,
   "metadata": {},
   "outputs": [
    {
     "name": "stdout",
     "output_type": "stream",
     "text": [
      "s ds234asdas\n"
     ]
    }
   ],
   "source": [
    "#1.1\n",
    "\n",
    "string_with_numbers = 's ds234asdas123123'\n",
    "\n",
    "for index in range(len(string_with_numbers)):\n",
    "    char = string_with_numbers[-index-1]\n",
    "    if not char.isdigit():\n",
    "        print(string_with_numbers[:len(string_with_numbers)-index])\n",
    "        break"
   ]
  },
  {
   "cell_type": "code",
   "execution_count": 24,
   "metadata": {},
   "outputs": [
    {
     "name": "stdout",
     "output_type": "stream",
     "text": [
      "0 s\n",
      "1  \n",
      "2 d\n",
      "3 s\n",
      "4 2\n",
      "5 3\n",
      "6 4\n",
      "7 a\n",
      "8 s\n",
      "9 d\n",
      "10 a\n",
      "11 s\n",
      "12 1\n",
      "13 2\n",
      "14 3\n",
      "15 1\n",
      "16 2\n",
      "17 3\n"
     ]
    }
   ],
   "source": [
    "#1.2\n",
    "\n",
    "for index, char in enumerate(string_with_numbers):\n",
    "    print(index, char)"
   ]
  },
  {
   "cell_type": "code",
   "execution_count": 25,
   "metadata": {},
   "outputs": [
    {
     "name": "stdout",
     "output_type": "stream",
     "text": [
      "no such substring\n"
     ]
    }
   ],
   "source": [
    "index = 'qweqweqweqwe'.find('helo') \n",
    "if index != -1:\n",
    "    print(index)\n",
    "else:\n",
    "    print('no such substring')"
   ]
  },
  {
   "cell_type": "code",
   "execution_count": 26,
   "metadata": {},
   "outputs": [
    {
     "data": {
      "text/plain": [
       "1"
      ]
     },
     "execution_count": 26,
     "metadata": {},
     "output_type": "execute_result"
    }
   ],
   "source": [
    "#1.3\n",
    "inital_string = 'hellohellohello'\n",
    "substring = 'hellohello'\n",
    "\n",
    "len(inital_string.split(substring)) - 1\n"
   ]
  },
  {
   "cell_type": "code",
   "execution_count": 27,
   "metadata": {},
   "outputs": [
    {
     "name": "stdout",
     "output_type": "stream",
     "text": [
      "0\n"
     ]
    }
   ],
   "source": [
    "find_index = 0\n",
    "while True:\n",
    "    find_index = inital_string.find(substring, find_index)\n",
    "    if find_index == -1:\n",
    "        break\n",
    "    else:\n",
    "        print(find_index)\n",
    "        find_index += len(substring)"
   ]
  },
  {
   "cell_type": "markdown",
   "metadata": {},
   "source": [
    "Блиц 2\n",
    "\n",
    "\n",
    "1. Записать в файл первые 100 натуральных чисел, каждое с новой строки.\n",
    "2. Записать в файл 'Raven1.txt' кусок стихотворения, данный ниже. Затем прочитать стихотворения из этого файла и переписать в новый файл 'Raven2.txt' каждое второе предложение.\n",
    "And the Raven, never flitting, still is sitting, still is sitting\n",
    "On the pallid bust of Pallas just above my chamber door;\n",
    "And his eyes have all the seeming of a demon’s that is dreaming,\n",
    "And the lamp-light o’er him streaming throws his shadow on the floor;\n",
    "And my soul from out that shadow that lies floating on the floor\n",
    "Shall be lifted—nevermore!"
   ]
  },
  {
   "cell_type": "code",
   "execution_count": 35,
   "metadata": {},
   "outputs": [],
   "source": [
    "#1.1\n",
    "\n",
    "numbers_fp = open('numbers.txt', 'w')\n",
    "for i in range(101):\n",
    "    numbers_fp.write(str(i) + '\\n')\n",
    "numbers_fp.close()"
   ]
  },
  {
   "cell_type": "code",
   "execution_count": 29,
   "metadata": {},
   "outputs": [],
   "source": []
  },
  {
   "cell_type": "code",
   "execution_count": 30,
   "metadata": {},
   "outputs": [],
   "source": []
  },
  {
   "cell_type": "code",
   "execution_count": 31,
   "metadata": {},
   "outputs": [],
   "source": [
    "poem = \"\"\"And the Raven, never flitting, still is sitting, still is sitting\n",
    "On the pallid bust of Pallas just above my chamber door;\n",
    "And his eyes have all the seeming of a demon’s that is dreaming,\n",
    "And the lamp-light o’er him streaming throws his shadow on the floor;\n",
    "And my soul from out that shadow that lies floating on the floor\n",
    "Shall be lifted—nevermore!\"\"\""
   ]
  },
  {
   "cell_type": "code",
   "execution_count": 39,
   "metadata": {},
   "outputs": [],
   "source": [
    "with open('Raven1.txt', 'w') as poem_fp:\n",
    "    print(poem, file=poem_fp)"
   ]
  },
  {
   "cell_type": "code",
   "execution_count": 40,
   "metadata": {},
   "outputs": [],
   "source": [
    "with open('Raven1.txt') as poem_fp, \\\n",
    "        open('Raven2.txt', 'w') as poem_even_fp:\n",
    "    for index, line in enumerate(poem_fp.read().split(';\\n')):\n",
    "        if index % 2 == 1:\n",
    "            print(line, file=poem_even_fp, end='')"
   ]
  },
  {
   "cell_type": "code",
   "execution_count": null,
   "metadata": {},
   "outputs": [],
   "source": []
  }
 ],
 "metadata": {
  "kernelspec": {
   "display_name": "Python 3",
   "language": "python",
   "name": "python3"
  },
  "language_info": {
   "codemirror_mode": {
    "name": "ipython",
    "version": 3
   },
   "file_extension": ".py",
   "mimetype": "text/x-python",
   "name": "python",
   "nbconvert_exporter": "python",
   "pygments_lexer": "ipython3",
   "version": "3.6.5"
  }
 },
 "nbformat": 4,
 "nbformat_minor": 2
}

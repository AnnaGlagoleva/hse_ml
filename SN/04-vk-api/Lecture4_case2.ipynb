{
 "cells": [
  {
   "cell_type": "code",
   "execution_count": null,
   "metadata": {},
   "outputs": [],
   "source": [
    "import vk\n",
    "import time\n",
    "from vk.exceptions import VkAPIError\n",
    "from requests.exceptions import ConnectionError \n",
    "from requests.exceptions import ReadTimeout \n",
    "import networkx as nx\n",
    "import matplotlib.pyplot as plt\n",
    "%matplotlib inline"
   ]
  },
  {
   "cell_type": "code",
   "execution_count": null,
   "metadata": {},
   "outputs": [],
   "source": [
    "token = 'zZz'\n",
    "session = vk.Session(access_token=token) \n",
    "api = vk.API(session)"
   ]
  },
  {
   "cell_type": "code",
   "execution_count": null,
   "metadata": {},
   "outputs": [],
   "source": [
    "# GET SOBCHAK's FRIENDS\n",
    "\n",
    "sobchak_id = 453382669\n",
    "friends = api.friends.get(user_id=sobchak_id, v = '5.54')['items']"
   ]
  },
  {
   "cell_type": "code",
   "execution_count": null,
   "metadata": {},
   "outputs": [],
   "source": [
    "# GET FRIENDS OF FRIENDS\n",
    "# TAKES 4 MINUTES FOR SOBCHAK (245 friends)\n",
    "\n",
    "graph_data = dict()\n",
    "for friend_id in friends:\n",
    "    try:\n",
    "        graph_data[friend_id] = api.friends.get(user_id=friend_id, v = '5.54')['items']\n",
    "    except Exception as e:\n",
    "        graph_data[friend_id] = list()\n",
    "        print(e)  # print error to control the process (\"Errors, errors everywhere!\")\n",
    "        time.sleep(1)\n",
    "\n",
    "    time.sleep(1)  # pauses are needed due to vk api limitations, minimum is 0.35 seconds. Do not remove!"
   ]
  },
  {
   "cell_type": "code",
   "execution_count": null,
   "metadata": {},
   "outputs": [],
   "source": [
    "# CREATE GRAPH AND EGO-GRAPH\n",
    "\n",
    "graph = nx.Graph(directed=False)\n",
    "for sobchak_friend in graph_data:  # add sobchak friends\n",
    "    graph.add_edge(sobchak_id, sobchak_friend)\n",
    "    \n",
    "    for nested_friend in graph_data[sobchak_friend]:  # add friends of friends\n",
    "        graph.add_edge(sobchak_friend, nested_friend)\n",
    "\n",
    "sobchak_ego_graph = nx.ego_graph(graph, sobchak_id, radius=1, undirected=True)"
   ]
  },
  {
   "cell_type": "code",
   "execution_count": null,
   "metadata": {},
   "outputs": [],
   "source": [
    "# GET LIKES OF LAST POST\n",
    "\n",
    "post_likes = list()\n",
    "post_id = 60853  # can be defined by post's url in browser\n",
    "items_in_response = 1000  # max=1000 for vk api\n",
    "offsets = [0, 1000, 2000, 3000]  # offsets are needed to get more than 1000 likes due to api limitations\n",
    "for offset in offsets:\n",
    "    post_likes.extend(api.likes.getList(type='post',\n",
    "                                       owner_id=sobchak_id,\n",
    "                                       item_id=post_id,\n",
    "                                       count=items_in_response,\n",
    "                                       offset=offset, v = '5.54')['items'])\n",
    "    time.sleep(1)\n",
    "\n",
    "post_likes = list(set(post_likes))\n",
    "print(len(post_likes))"
   ]
  },
  {
   "cell_type": "code",
   "execution_count": null,
   "metadata": {},
   "outputs": [],
   "source": [
    "# DRAW GRAPH\n",
    "\n",
    "colors = list()\n",
    "sizes = list()\n",
    "for vk_id in sobchak_ego_graph.nodes():\n",
    "    if vk_id in post_likes:\n",
    "        colors.append('red')\n",
    "        sizes.append(50)\n",
    "    else:\n",
    "        colors.append('blue')\n",
    "        sizes.append(20)\n",
    "\n",
    "plt.figure(figsize=(12, 7))\n",
    "nx.draw(sobchak_ego_graph, width=0.1, node_color=colors, node_size=sizes)\n",
    "plt.title(u'Распространение лайков вокруг последнего поста Собчак.\\nКрасный = лайкнувшие друзья,\\nСиний = не лайкнувшие друзья');"
   ]
  },
  {
   "cell_type": "code",
   "execution_count": null,
   "metadata": {},
   "outputs": [],
   "source": [
    "# ADD FRIENDS OF FRIENDS LIKES TO EGO-GRAPH\n",
    "\n",
    "sobchak_ego_graph_extended = sobchak_ego_graph.copy()\n",
    "liked_not_in_friends = list()\n",
    "for sobchak_friend in graph_data:\n",
    "    for friend_nested in graph_data[sobchak_friend]:\n",
    "        if friend_nested in post_likes and friend_nested not in friends:\n",
    "            sobchak_ego_graph_extended.add_edge(sobchak_friend, friend_nested)"
   ]
  },
  {
   "cell_type": "code",
   "execution_count": null,
   "metadata": {},
   "outputs": [],
   "source": [
    "# DRAW GRAPH\n",
    "\n",
    "colors_extended = list()\n",
    "sizes_extended = list()\n",
    "labels = dict()\n",
    "for vk_id in sobchak_ego_graph_extended.nodes():\n",
    "    if vk_id in friends and vk_id in post_likes:  # friend + liked\n",
    "        colors_extended.append('r')\n",
    "        sizes_extended.append(70)\n",
    "        \n",
    "    elif vk_id in friends and vk_id not in post_likes:\n",
    "        colors_extended.append('b')\n",
    "        sizes_extended.append(30)\n",
    "        \n",
    "    elif vk_id not in friends and vk_id in post_likes:\n",
    "        colors_extended.append('g')\n",
    "        sizes_extended.append(15)\n",
    "    \n",
    "    else:\n",
    "        colors_extended.append('k')\n",
    "        sizes_extended.append(150)\n",
    "    \n",
    "plt.figure(figsize=(13, 7))\n",
    "nx.draw(sobchak_ego_graph_extended, node_size=sizes_extended, width=0.1, node_color=colors_extended)\n",
    "plt.title(u'Распространение лайков вокруг последнего поста Собчак.\\nКрасный = лайкнувшие друзья,\\nСиний = не лайкнувшие друзья,\\nЗелёный = лайкнувшие друзья друзей');"
   ]
  },
  {
   "cell_type": "code",
   "execution_count": null,
   "metadata": {},
   "outputs": [],
   "source": []
  }
 ],
 "metadata": {
  "kernelspec": {
   "display_name": "Python 3",
   "language": "python",
   "name": "python3"
  },
  "language_info": {
   "codemirror_mode": {
    "name": "ipython",
    "version": 3
   },
   "file_extension": ".py",
   "mimetype": "text/x-python",
   "name": "python",
   "nbconvert_exporter": "python",
   "pygments_lexer": "ipython3",
   "version": "3.6.8"
  }
 },
 "nbformat": 4,
 "nbformat_minor": 2
}

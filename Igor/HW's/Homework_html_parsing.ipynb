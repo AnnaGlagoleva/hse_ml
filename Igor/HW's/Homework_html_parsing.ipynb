{
 "cells": [
  {
   "cell_type": "code",
   "execution_count": 2,
   "metadata": {},
   "outputs": [],
   "source": [
    "import requests\n",
    "from bs4 import BeautifulSoup"
   ]
  },
  {
   "cell_type": "code",
   "execution_count": 4,
   "metadata": {},
   "outputs": [
    {
     "name": "stdout",
     "output_type": "stream",
     "text": [
      "['12 минут назад', '3 часа назад', '43 минуты назад', '18 минут назад', '3 часа назад', '10 минут назад', '37 минут назад', '2 часа назад', '6 часов назад', '4 часа назад', '4 часа назад', '3 часа назад', '4 часа назад', '4 часа назад', '3 часа назад', '4 часа назад', '5 часов назад', '5 часов назад', '6 часов назад', '2 часа назад', '2 часа назад', '8 часов назад', '8 часов назад', '21 час назад', 'день назад', '4 часа назад', '8 часов назад', '5 часов назад', '4 часа назад', '7 часов назад', '6 часов назад', '4 часа назад', '3 дня назад', '21 час назад', '7 дней назад', 'день назад', 'день назад', '2 дня назад', 'день назад', '2 дня назад', '15 дней назад', '17 дней назад', '2 дня назад', '3 дня назад']\n"
     ]
    }
   ],
   "source": [
    "req = requests.get('https://meduza.io')\n",
    "news_time = []\n",
    "soup = BeautifulSoup(req.text, 'html.parser')\n",
    "for x in soup.find_all('time'): \n",
    "    news_time.append(x.get_text())\n",
    "print(news_time)"
   ]
  },
  {
   "cell_type": "code",
   "execution_count": 6,
   "metadata": {},
   "outputs": [
    {
     "name": "stdout",
     "output_type": "stream",
     "text": [
      "0 часов назад\n",
      "3 часа назад\n",
      "0 часов назад\n",
      "0 часов назад\n",
      "3 часа назад\n",
      "0 часов назад\n",
      "0 часов назад\n",
      "2 часа назад\n",
      "6 часов назад\n",
      "4 часа назад\n",
      "4 часа назад\n",
      "3 часа назад\n",
      "4 часа назад\n",
      "4 часа назад\n",
      "3 часа назад\n",
      "4 часа назад\n",
      "5 часов назад\n",
      "5 часов назад\n",
      "6 часов назад\n",
      "2 часа назад\n",
      "2 часа назад\n",
      "8 часов назад\n",
      "8 часов назад\n",
      "21 час назад\n",
      "день назад\n",
      "4 часа назад\n",
      "8 часов назад\n",
      "5 часов назад\n",
      "4 часа назад\n",
      "7 часов назад\n",
      "6 часов назад\n",
      "4 часа назад\n",
      "3 дня назад\n",
      "21 час назад\n",
      "7 дней назад\n",
      "день назад\n",
      "день назад\n",
      "2 дня назад\n",
      "день назад\n",
      "2 дня назад\n",
      "15 дней назад\n",
      "17 дней назад\n",
      "2 дня назад\n",
      "3 дня назад\n"
     ]
    }
   ],
   "source": [
    "for i in news_time:\n",
    "    if 'минут' not in i:\n",
    "        print (i)\n",
    "    if 'минут' in i:\n",
    "        print ('0 часов назад') # пытаюсь избавиться от минут, но почему-то с днями это не проходит"
   ]
  },
  {
   "cell_type": "code",
   "execution_count": 7,
   "metadata": {},
   "outputs": [
    {
     "name": "stdout",
     "output_type": "stream",
     "text": [
      "3101844.jpg скачан\n",
      "3101843.jpg скачан\n",
      "3101842.jpg скачан\n",
      "3101841.jpg скачан\n",
      "3101840.jpg скачан\n",
      "3101839.jpg скачан\n",
      "3101838.jpg скачан\n",
      "3101837.jpg скачан\n",
      "3101836.jpg скачан\n",
      "3100653.jpg скачан\n",
      "3100652.jpg скачан\n",
      "3100651.jpg скачан\n",
      "3100650.jpg скачан\n",
      "3100649.jpg скачан\n",
      "3100648.jpg скачан\n",
      "3094984.jpg скачан\n",
      "3094983.jpg скачан\n",
      "3094982.jpg скачан\n",
      "3093093.jpg скачан\n",
      "3093092.jpg скачан\n",
      "3093091.jpg скачан\n",
      "3093090.jpg скачан\n",
      "3093089.jpg скачан\n",
      "3093088.jpg скачан\n",
      "3092667.jpg скачан\n",
      "3092666.jpg скачан\n",
      "3089917.jpg скачан\n",
      "3089916.jpg скачан\n",
      "3086641.jpg скачан\n",
      "3086640.jpg скачан\n",
      "3086639.jpg скачан\n",
      "3086638.jpg скачан\n",
      "3086637.jpg скачан\n",
      "3086636.jpg скачан\n",
      "3086635.jpg скачан\n",
      "3086634.jpg скачан\n",
      "3086633.jpg скачан\n",
      "3086632.jpg скачан\n",
      "3086631.jpg скачан\n",
      "3086630.jpg скачан\n",
      "3086629.jpg скачан\n",
      "3086628.jpg скачан\n"
     ]
    }
   ],
   "source": [
    "import urllib\n",
    "req = requests.get('https://www.kinopoisk.ru/film/718223/posters/')\n",
    "req.status_code\n",
    "soup = BeautifulSoup(req.text, 'html.parser')\n",
    "images = soup.find_all('img')\n",
    "for i in images:\n",
    "    posters = soup.find_all(title='Просмотр постера')\n",
    "for src_tag in posters:\n",
    "    posters_link = (src_tag[\"src\"])\n",
    "    urllib.request.urlretrieve(posters_link, posters_link[42:])\n",
    "    print(posters_link[42:], 'скачан')"
   ]
  },
  {
   "cell_type": "code",
   "execution_count": 8,
   "metadata": {},
   "outputs": [],
   "source": [
    "req = requests.get('https://auto.ru')\n",
    "soup = BeautifulSoup(req.text, 'html.parser')"
   ]
  },
  {
   "cell_type": "code",
   "execution_count": 10,
   "metadata": {},
   "outputs": [],
   "source": [
    "soup.find_all('a', {\"class\": \"IndexMarks__item\"})\n",
    "item_name = []\n",
    "for item in soup.find_all('a', {\"class\": \"IndexMarks__item\"}):\n",
    "    if soup.find_all('div', {\"class\": \"IndexMarks__item-name\"}):\n",
    "        item_name.append(item.get_text())\n",
    "item_count = []\n",
    "for item in soup.find_all('a', {\"class\": \"IndexMarks__item\"}):\n",
    "    if soup.find_all('div', {\"class\": \"IndexMarks__item-count\"}):\n",
    "        item_count.append(item.get_text())\n",
    "# Здесь я хочу, чтобы цикл отнес марки машин к первому списку, а количество объявлений - ко второму,\n",
    "# но в результате почему-то получаю два одинаковых списка"
   ]
  },
  {
   "cell_type": "code",
   "execution_count": 12,
   "metadata": {},
   "outputs": [
    {
     "name": "stdout",
     "output_type": "stream",
     "text": [
      "LADA\n",
      "Audi\n",
      "BMW\n",
      "Chery\n",
      "Chevrolet\n",
      "Citroen\n",
      "Daewoo\n",
      "Ford\n",
      "Great Wall\n",
      "Honda\n",
      "Hyundai\n",
      "Infiniti\n",
      "Jeep\n",
      "Kia\n",
      "Land Rover\n",
      "Lexus\n",
      "Lifan\n",
      "Mazda\n",
      "MercedesBenz\n",
      "Mitsubishi\n",
      "Nissan\n",
      "Opel\n",
      "Peugeot\n",
      "Porsche\n",
      "Renault\n",
      "Skoda\n",
      "SsangYong\n",
      "Subaru\n",
      "Suzuki\n",
      "Toyota\n",
      "Volkswagen\n",
      "Volvo\n",
      "\n",
      "\n"
     ]
    }
   ],
   "source": [
    "import re\n",
    "for item in item_name:\n",
    "    items_string = ''.join(item)\n",
    "    cars = re.sub(r'[^\\w\\s]+|[\\d]+', r'',items_string).strip()\n",
    "    cars = re.sub(r'[\\ÐÐÐ]', r'',cars).strip()\n",
    "    print (cars) # все-таки пытаюсь отделить машины от объявлений"
   ]
  },
  {
   "cell_type": "code",
   "execution_count": 13,
   "metadata": {},
   "outputs": [
    {
     "name": "stdout",
     "output_type": "stream",
     "text": [
      "104085\n",
      "18886\n",
      "23249\n",
      "3363\n",
      "21616\n",
      "4295\n",
      "8718\n",
      "26465\n",
      "1888\n",
      "10104\n",
      "28820\n",
      "3636\n",
      "2164\n",
      "25968\n",
      "6520\n",
      "6375\n",
      "2611\n",
      "13107\n",
      "29156\n",
      "19832\n",
      "31010\n",
      "16121\n",
      "7105\n",
      "2118\n",
      "21715\n",
      "14578\n",
      "3376\n",
      "5154\n",
      "4856\n",
      "38524\n",
      "32687\n",
      "6158\n",
      "5281\n",
      "6619\n"
     ]
    }
   ],
   "source": [
    "for item in item_name:\n",
    "    items_string = ''.join(item)\n",
    "    advt = re.sub(r'[^\\w\\s]+|[\\D]+', r'',items_string).strip()\n",
    "    print (advt)"
   ]
  },
  {
   "cell_type": "code",
   "execution_count": null,
   "metadata": {},
   "outputs": [],
   "source": []
  }
 ],
 "metadata": {
  "kernelspec": {
   "display_name": "Python 3",
   "language": "python",
   "name": "python3"
  },
  "language_info": {
   "codemirror_mode": {
    "name": "ipython",
    "version": 3
   },
   "file_extension": ".py",
   "mimetype": "text/x-python",
   "name": "python",
   "nbconvert_exporter": "python",
   "pygments_lexer": "ipython3",
   "version": "3.6.5"
  }
 },
 "nbformat": 4,
 "nbformat_minor": 2
}

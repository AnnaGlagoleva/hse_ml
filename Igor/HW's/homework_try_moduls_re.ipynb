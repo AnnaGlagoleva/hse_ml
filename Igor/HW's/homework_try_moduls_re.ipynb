{
 "cells": [
  {
   "cell_type": "markdown",
   "metadata": {},
   "source": [
    "1. Переведите строку в дату, используя datetime: `2018-08-14T19:00:55Z`"
   ]
  },
  {
   "cell_type": "code",
   "execution_count": 37,
   "metadata": {},
   "outputs": [
    {
     "data": {
      "text/plain": [
       "datetime.datetime(2018, 8, 14, 19, 0, 55)"
      ]
     },
     "execution_count": 37,
     "metadata": {},
     "output_type": "execute_result"
    }
   ],
   "source": [
    "# 1\n",
    "date = '2018-08-14T19:00:55Z'\n",
    "\n",
    "#your code"
   ]
  },
  {
   "cell_type": "markdown",
   "metadata": {},
   "source": [
    "2. Напишите функцию, которая показывает, какой день недели будет через 20 дней."
   ]
  },
  {
   "cell_type": "code",
   "execution_count": 42,
   "metadata": {},
   "outputs": [
    {
     "name": "stdout",
     "output_type": "stream",
     "text": [
      "(datetime.datetime(2018, 10, 12, 22, 0, 57, 172828), 'Thursday')\n"
     ]
    }
   ],
   "source": [
    "# 2\n",
    "def weekday20():\n",
    "    #your code\n",
    "\n",
    "print(weekday20())"
   ]
  },
  {
   "cell_type": "markdown",
   "metadata": {},
   "source": [
    "3. Напишите функцию, которая по введенному радиусу возвращает площадь поверхности шара и его объем. Площадь поверхности = `4*pi*r**2`, объем = `4/3*pi*r**3`. Число pi можно найти в модуле math."
   ]
  },
  {
   "cell_type": "code",
   "execution_count": 43,
   "metadata": {},
   "outputs": [
    {
     "name": "stdout",
     "output_type": "stream",
     "text": [
      "Radius of sphere: 2\n",
      "Surface Area is:  50.26548245743669\n",
      "Volume is:  33.510321638291124\n"
     ]
    }
   ],
   "source": [
    "# 3\n",
    "# your code"
   ]
  },
  {
   "cell_type": "markdown",
   "metadata": {},
   "source": [
    "4. Найти в строке все пароли и вывести их (только численную часть). Пароли только числовые, идут после выражения `password:`. Просто числа паролем не являются."
   ]
  },
  {
   "cell_type": "code",
   "execution_count": 44,
   "metadata": {},
   "outputs": [
    {
     "name": "stdout",
     "output_type": "stream",
     "text": [
      "Поиск фраз с помощью re: password:([\\d]+)\n",
      "['12345', '23456']\n",
      "\n",
      "\n"
     ]
    }
   ],
   "source": [
    "# 4 Example:\n",
    "string = 'kasdjvb password:12345 hdhvbpassword:23456, 3534726, password123 fhbfvw'\n",
    "\n",
    "def find_all_passwords(patterns, phrase):\n",
    "    # your code\n"
   ]
  },
  {
   "cell_type": "markdown",
   "metadata": {},
   "source": [
    "5. Написать выражение, которое ищет в тексте номера телефонов с таким паттерном: `tel = '+7(917)12-345-67'`"
   ]
  },
  {
   "cell_type": "code",
   "execution_count": 45,
   "metadata": {},
   "outputs": [
    {
     "data": {
      "text/plain": [
       "['+7(917)12-345-67', '+7(495)36-558-47']"
      ]
     },
     "execution_count": 45,
     "metadata": {},
     "output_type": "execute_result"
    }
   ],
   "source": [
    "# 5 Example:\n",
    "tel = 'My number is +7(917)12-345-67 or +7(495)36-558-47. Call me!'\n",
    "\n",
    "# your code"
   ]
  },
  {
   "cell_type": "markdown",
   "metadata": {},
   "source": [
    "6. Вам на вход подается список пар чисел. Проверить, в скольких парах первое число делится на второе без ошибки. Вывести эти пары и их количество."
   ]
  },
  {
   "cell_type": "code",
   "execution_count": 46,
   "metadata": {},
   "outputs": [
    {
     "name": "stdout",
     "output_type": "stream",
     "text": [
      "Devision can't be done (4, 0)\n",
      "There are 2 good pairs: [(2, 3), (9, 3)]\n"
     ]
    }
   ],
   "source": [
    "# 6 Example\n",
    "pairs = [(2, 3), (4, 0), (9, 3)] \n",
    "\n",
    "# your code"
   ]
  }
 ],
 "metadata": {
  "kernelspec": {
   "display_name": "Python 3",
   "language": "python",
   "name": "python3"
  },
  "language_info": {
   "codemirror_mode": {
    "name": "ipython",
    "version": 3
   },
   "file_extension": ".py",
   "mimetype": "text/x-python",
   "name": "python",
   "nbconvert_exporter": "python",
   "pygments_lexer": "ipython3",
   "version": "3.6.5"
  }
 },
 "nbformat": 4,
 "nbformat_minor": 2
}
